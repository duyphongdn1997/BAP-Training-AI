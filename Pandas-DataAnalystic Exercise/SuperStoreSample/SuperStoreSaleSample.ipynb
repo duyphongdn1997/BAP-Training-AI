{
 "cells": [
  {
   "cell_type": "markdown",
   "metadata": {},
   "source": [
    "<a href=\"https://colab.research.google.com/drive/13lH39gjf7stuRWV_GFCjoGlZsrvssh5U?usp=sharing\" target=\"_parent\"><img src=\"https://colab.research.google.com/assets/colab-badge.svg\" alt=\"Open in Colab\"/></a>"
   ]
  },
  {
   "cell_type": "markdown",
   "metadata": {},
   "source": [
    "### Imports "
   ]
  },
  {
   "cell_type": "code",
   "execution_count": null,
   "metadata": {},
   "outputs": [],
   "source": [
    "import pandas as pd\n",
    "import numpy as np\n",
    "import matplotlib.pyplot as plt\n",
    "import seaborn as sns\n",
    "import time\n",
    "import matplotlib.ticker as ticker\n",
    "import plotly.express as px\n",
    "import plotly.graph_objects as go\n",
    "from plotly.subplots import make_subplots\n",
    "\n",
    "pd.set_option(\"display.max_rows\", 21, \"display.max_columns\", 21)"
   ]
  },
  {
   "cell_type": "markdown",
   "metadata": {},
   "source": [
    "### I. Prepair data"
   ]
  },
  {
   "cell_type": "code",
   "execution_count": null,
   "metadata": {},
   "outputs": [],
   "source": [
    "data_frame = pd.read_excel('Sample - Superstore.xls')"
   ]
  },
  {
   "cell_type": "code",
   "execution_count": null,
   "metadata": {},
   "outputs": [],
   "source": [
    "data_frame.shape"
   ]
  },
  {
   "cell_type": "code",
   "execution_count": null,
   "metadata": {},
   "outputs": [],
   "source": [
    "data_frame.head()"
   ]
  },
  {
   "cell_type": "code",
   "execution_count": null,
   "metadata": {},
   "outputs": [],
   "source": [
    "data_frame.describe()"
   ]
  },
  {
   "cell_type": "code",
   "execution_count": null,
   "metadata": {},
   "outputs": [],
   "source": [
    "data_frame.info()"
   ]
  },
  {
   "cell_type": "markdown",
   "metadata": {},
   "source": [
    "*Các kiểu giá trị ở các cột đều phù hợp*"
   ]
  },
  {
   "cell_type": "code",
   "execution_count": null,
   "metadata": {},
   "outputs": [],
   "source": [
    "data_frame.isna().sum()"
   ]
  },
  {
   "cell_type": "markdown",
   "metadata": {},
   "source": [
    "*Không có giá trị null nào trong dataframe*"
   ]
  },
  {
   "cell_type": "code",
   "execution_count": null,
   "metadata": {},
   "outputs": [],
   "source": [
    "data_frame.duplicated().sum()"
   ]
  },
  {
   "cell_type": "markdown",
   "metadata": {},
   "source": [
    "*Không có giá trị trùng lặp nào trong dataframe*"
   ]
  },
  {
   "cell_type": "markdown",
   "metadata": {},
   "source": [
    "### II. How have profit and sales changed over the years?"
   ]
  },
  {
   "cell_type": "code",
   "execution_count": null,
   "metadata": {},
   "outputs": [],
   "source": [
    "data_frame['Year']=data_frame['Order Date'].dt.year\n",
    "data_frame['Year']"
   ]
  },
  {
   "cell_type": "code",
   "execution_count": null,
   "metadata": {},
   "outputs": [],
   "source": [
    "data_frame['Year'].value_counts()"
   ]
  },
  {
   "cell_type": "code",
   "execution_count": null,
   "metadata": {},
   "outputs": [],
   "source": [
    "profit_sales_data = data_frame.groupby(by=\"Year\")[[\"Sales\", \"Profit\"]].mean().reset_index()\n",
    "profit_sales_data"
   ]
  },
  {
   "cell_type": "code",
   "execution_count": null,
   "metadata": {},
   "outputs": [],
   "source": [
    "fig = go.Figure()\n",
    "fig.add_trace(go.Scatter(x=profit_sales_data[\"Year\"], y=profit_sales_data[\"Sales\"], name='Sales',\n",
    "                         line=dict(color='firebrick', width=4)))\n",
    "fig.add_trace(go.Scatter(x=profit_sales_data[\"Year\"], y=profit_sales_data[\"Profit\"], name='Profit',\n",
    "                         line = dict(color='firebrick', width=4, dash='dot')))\n",
    "fig.add_bar(x=profit_sales_data[\"Year\"], y=profit_sales_data[\"Sales\"], name='Sales', marker_color='indianred')\n",
    "fig.add_trace(go.Bar(x=profit_sales_data[\"Year\"], y=profit_sales_data[\"Profit\"], name='Profit', marker_color='lightsalmon'))\n",
    "fig.update_layout(title='Profit and Sales changed over the years',\n",
    "                   xaxis_title='Years',\n",
    "                   yaxis_title='')\n",
    "fig.update_xaxes(tickangle=45,\n",
    "                 tickmode = 'array',\n",
    "                 tickvals = profit_sales_data['Year'],\n",
    "                 ticktext= [d for d in profit_sales_data['Year']])\n",
    "fig.show()"
   ]
  },
  {
   "cell_type": "markdown",
   "metadata": {},
   "source": [
    "Theo đồ thị trên, ta thấy được rằng chỉ số Sales và Profit đều thay đổi theo từng năm.\n",
    "\n",
    "Sales:\n",
    "+ Sales đạt cao nhất ở năm 2014, với giá trị **242.97**, nhưng lại đạt giá trị profit thấp nhất **24.86**, chứng tỏ trong năm này cửa hàng bán được nhiều hàng hóa nhưng với lợi nhuận thấp. \n",
    "+ Sales đạt giá trị thấp nhất ở năm 2017, với giá trị trung bình là **221.38**\n",
    "+ Nhìn chung, giá trị Sales thay đổi lên xuống theo từng năm nhưng đang có xu hướng giảm xuống.\n",
    "\n",
    "Profit:\n",
    "+ Từ năm 2014 đến năm 2016, chỉ số lợi nhuận của cửa hàng đều có xu hướng tăng lên. Từ giá trị **24.86** ở năm 2014 đến năm 2016, lợi nhuận đã tăng lên **32.62**. Đây cũng là hai giá trị lợi nhuận thấp nhất và cao nhất mà cửa hàng đã thu được. \n",
    "+ Từ năm 2016 đến năm 2017, chỉ số lợi nhuận đã giảm xuống còn **28.21**\n"
   ]
  },
  {
   "cell_type": "markdown",
   "metadata": {},
   "source": [
    "### III. How do profit Rate (Profit/Sales) over years?"
   ]
  },
  {
   "cell_type": "code",
   "execution_count": null,
   "metadata": {},
   "outputs": [],
   "source": [
    "profit_sales_data[\"Profit Rate\"] = profit_sales_data[\"Profit\"]/profit_sales_data[\"Sales\"]\n",
    "profit_sales_data"
   ]
  },
  {
   "cell_type": "code",
   "execution_count": null,
   "metadata": {},
   "outputs": [],
   "source": [
    "fig_3 = make_subplots(specs=[[{\"secondary_y\": True}]])\n",
    "fig_3.add_bar(x=profit_sales_data[\"Year\"], y=profit_sales_data[\"Sales\"], name='Sales',\n",
    "              marker_color='MediumPurple', secondary_y=False)\n",
    "fig_3.add_bar(x=profit_sales_data[\"Year\"], y=profit_sales_data[\"Profit\"], name='Profit',\n",
    "              marker_color=\"lightskyblue\", secondary_y=False)\n",
    "fig_3.add_trace(go.Scatter(x=profit_sales_data[\"Year\"], y=profit_sales_data[\"Profit Rate\"]*100,\n",
    "                           name=\"Profit Rate\"), secondary_y=True)\n",
    "fig_3.update_yaxes(title_text=\"\", secondary_y=False)\n",
    "fig_3.update_yaxes(title_text=\"(%)\", secondary_y=True)\n",
    "fig_3.update_xaxes(tickangle=45,\n",
    "                   tickmode = 'array',\n",
    "                   tickvals = profit_sales_data['Year'],\n",
    "                   ticktext= [d for d in profit_sales_data['Year']])\n",
    "fig_3.update_layout(title='Profit Rate (Profit/Sales) over years',\n",
    "                   xaxis_title='Years')\n",
    "fig_3.show()"
   ]
  },
  {
   "cell_type": "markdown",
   "metadata": {},
   "source": [
    "Như đã đề cập ở phần \"Profit and Sales changed over the years\" ở biểu đồ \"Profit Rate (Profit/Sales) over years\" này, chúng ta thấy rõ hơn về tỉ lệ lợi nhuận trên doanh thu của cửa hàng.\n",
    "\n",
    "- Ở năm 2014, cửa hàng thu về lượng doanh thu lớn nhưng lại có tỷ lệ thu lợi nhuận rất thấp, chỉ đạt **10.23%**, đây cung là mức tỷ lệ lợi nhuận thấp nhất qua các năm của cửa hàng.\n",
    "- Từ năm 2015 đến năm 2017, cửa hàng đã đẩy được mức tỷ lệ lên cao hơn nhiều, rơi vào khoảng **12% - 13%**. Trong đó, đạt giá trị cao nhất ở năm 2016 là **13.43%** "
   ]
  },
  {
   "cell_type": "markdown",
   "metadata": {},
   "source": [
    "### IV. How do profit and sales change over months in 2017?"
   ]
  },
  {
   "cell_type": "code",
   "execution_count": null,
   "metadata": {},
   "outputs": [],
   "source": [
    "data_frame['Month']=data_frame['Order Date'].dt.month\n",
    "data_frame['Month']"
   ]
  },
  {
   "cell_type": "code",
   "execution_count": null,
   "metadata": {},
   "outputs": [],
   "source": [
    "data_frame_2017 = data_frame[data_frame.Year==2017]\n",
    "profit_sales_2017_over_months = data_frame_2017.groupby(by=\"Month\")[[\"Sales\", \"Profit\"]].mean().reset_index()\n",
    "profit_sales_2017_over_months"
   ]
  },
  {
   "cell_type": "code",
   "execution_count": null,
   "metadata": {},
   "outputs": [],
   "source": [
    "fig_4 = go.Figure()\n",
    "fig_4.add_trace(go.Scatter(x=profit_sales_2017_over_months[\"Month\"], \n",
    "                           y=profit_sales_2017_over_months[\"Sales\"], name='Sales',\n",
    "                           line=dict(color='firebrick', width=4)))\n",
    "fig_4.add_trace(go.Scatter(x=profit_sales_2017_over_months[\"Month\"],\n",
    "                           y=profit_sales_2017_over_months[\"Profit\"], name='Profit',\n",
    "                           line = dict(color='firebrick', width=4, dash='dot')))\n",
    "fig_4.add_bar(x=profit_sales_2017_over_months[\"Month\"],\n",
    "              y=profit_sales_2017_over_months[\"Sales\"],\n",
    "              name='Sales', marker_color='indianred')\n",
    "fig_4.add_bar(x=profit_sales_2017_over_months[\"Month\"], \n",
    "              y=profit_sales_2017_over_months[\"Profit\"], \n",
    "              name='Profit', marker_color='lightsalmon')\n",
    "fig_4.update_layout(title='Profit and Sales changed over the months',\n",
    "                   xaxis_title='Month',\n",
    "                   yaxis_title='')\n",
    "fig_4.update_xaxes(tickangle=45,\n",
    "                   tickmode='array',\n",
    "                   tickvals=profit_sales_2017_over_months['Month'],\n",
    "                   ticktext=[d for d in profit_sales_2017_over_months['Month']])\n",
    "fig_4.show()"
   ]
  },
  {
   "cell_type": "markdown",
   "metadata": {},
   "source": [
    "Trong năm 2017, giá trị Sales và Profit theo từng tháng cũng thay đổi liên tục.\n",
    "\n",
    "Sales:\n",
    "- Giá trị doanh thu có sự thay đổi lên xuống khá lớn. Chúng ta có thể thấy rõ cửa hàng sẽ có doanh thu cao ở các *tháng 8, tháng 10,tháng 11, tháng 1 và tháng 3*. Các tháng có doanh thu thấp là *tháng 4, tháng 5, tháng 9 và tháng 12*. Trong đó, tháng có doanh thu cao nhất là *tháng 8*, đạt giá trị ***289.54*** và tháng có doanh thu thấp nhất là vào *tháng 4*, chỉ đạt doanh thu ***179.90***. \n",
    "\n",
    "Profit:\n",
    "- Giá trị lợi nhuận trong năm 2017 cũng có nhiều sự thay đổi, và có xu hướng giảm gần về vào các tháng cuối năm. Vào *tháng 3*, cửa hàng có được giá trị lợi nhuận đạt cao nhất trong năm là ***61.98*** và vào *tháng 4*, cửa hàng đạt gía trị lợi nhuận thấp nhất là ***4.60***.\n",
    "\n",
    "Nhận xét:\n",
    "- Ta thấy vào khoảng đầu năm (từ *tháng 1* đến *tháng 4*), giá trị lợi nhuận và doanh thu có độ tương quan lớn, khi mà lợi nhuận tỷ lệ thuận với doanh thu. Tuy nhiên, đến các tháng giữa và cuối năm (từ *tháng 5* đến *tháng 12*) giá trị lợi nhuận không còn phụ thuộc quá nhiều vào doanh thu nữa."
   ]
  },
  {
   "cell_type": "markdown",
   "metadata": {},
   "source": [
    "### V. Which states have the highest return rates?"
   ]
  },
  {
   "cell_type": "code",
   "execution_count": null,
   "metadata": {},
   "outputs": [],
   "source": [
    "data_frame[data_frame[\"Product ID\"]==\"FUR-TA-10000577\"]"
   ]
  },
  {
   "cell_type": "code",
   "execution_count": null,
   "metadata": {},
   "outputs": [],
   "source": [
    "data_frame[\"Cost\"] = data_frame.Sales - data_frame.Profit\n",
    "data_frame[\"Rate of Return\"] = (data_frame.Sales - data_frame.Cost)/data_frame.Cost\n",
    "data_frame_RoR_State = data_frame.groupby(by=\"State\").mean().reset_index()\n",
    "data_frame_RoR_State = data_frame_RoR_State.sort_values(by=['Rate of Return'])"
   ]
  },
  {
   "cell_type": "code",
   "execution_count": null,
   "metadata": {},
   "outputs": [],
   "source": [
    "fig_5 = make_subplots(specs=[[{\"secondary_y\": True}]])\n",
    "fig_5.add_bar(x=data_frame_RoR_State[\"State\"],\n",
    "              y=data_frame_RoR_State[\"Rate of Return\"],\n",
    "              name='Rate of Return', marker_color='indianred')\n",
    "fig_5.update_layout(autosize=True,\n",
    "                    width=1000,\n",
    "                    height=500)\n",
    "fig_5.update_layout(title='Rate of return over States',\n",
    "                    xaxis_title='State',\n",
    "                    yaxis_title='Rate of Return')\n",
    "fig_5.update_xaxes(tickangle=90,\n",
    "                   tickmode='array',\n",
    "                   tickvals=data_frame_RoR_State['State'],\n",
    "                   ticktext=[d for d in data_frame_RoR_State['State']])\n",
    "fig_5.show()"
   ]
  },
  {
   "cell_type": "code",
   "execution_count": null,
   "metadata": {},
   "outputs": [],
   "source": [
    "data_frame_RoR_State.tail()"
   ]
  },
  {
   "cell_type": "markdown",
   "metadata": {},
   "source": [
    "Trên biểu đồ trên, ta thấy hầu hết các bang đều cho chỉ số *Rate of Return* lớn hơn ***0.4***. \n",
    "- Có 11 bang chỉ số hoàn vốn ở ngưỡng thấp (nhỏ hơn ***0.11***), và đặc biệt có hai bang chỉ số âm hay lỗ vốn là bang **Illinois** có chỉ số ***-0.06*** và bang **Texas** có chỉ số ***-0.01***.\n",
    "- Bang có chỉ số cao nhất là **District of Columbia** với chỉ số ***0.75***, tiếp theo đó là **Iowa** với ***0.71***. Đây là hai bang đem lại mức hoàn vốn nhiều nhất."
   ]
  },
  {
   "cell_type": "markdown",
   "metadata": {},
   "source": [
    "### VI. Which categories have the highest return rates?"
   ]
  },
  {
   "cell_type": "code",
   "execution_count": null,
   "metadata": {},
   "outputs": [],
   "source": [
    "data_frame_RoR_cate = data_frame.groupby(by=\"Category\")[[\"Category\", \"Sales\", \"Quantity\", \n",
    "                                                         \"Discount\", \"Profit\", \"Cost\", \n",
    "                                                         \"Rate of Return\"]].mean().reset_index()\n",
    "data_frame_RoR_cate"
   ]
  },
  {
   "cell_type": "code",
   "execution_count": null,
   "metadata": {},
   "outputs": [],
   "source": [
    "fig_6 = make_subplots(specs=[[{\"secondary_y\": True}]])\n",
    "fig_6.add_bar(x=data_frame_RoR_cate[\"Category\"],\n",
    "              y=data_frame_RoR_cate[\"Rate of Return\"],\n",
    "              name='Category', marker_color='indianred')\n",
    "fig_6.update_layout(autosize=True,\n",
    "                    width=900,\n",
    "                    height=500)\n",
    "fig_6.update_layout(title='Rate of return over Category',\n",
    "                    xaxis_title='Category',\n",
    "                    yaxis_title='Rate of Return')\n",
    "fig_6.update_xaxes(tickangle=0,\n",
    "                   tickmode='array',\n",
    "                   tickvals=data_frame_RoR_cate['Category'],\n",
    "                   ticktext=[d for d in data_frame_RoR_cate['Category']])\n",
    "fig_6.show()"
   ]
  },
  {
   "cell_type": "markdown",
   "metadata": {},
   "source": [
    "Biểu đồ phía trên là biểu đồ về gía trị trung bình của tỉ lệ hoàn vốn nhóm theo nhóm hàng. Trong cửa hàng đang xét, chúng ta có ba nhóm chính là *Furniture*, *Office Suppiles* và *Technology*. Nhóm hàng *Office Supplies* có tỉ lệ hoàn vốn cao nhất đạt ***0.40***, nhóm hàng *Furniture* có tỉ lệ hoàn vốn thấp nhất ***0.14*** và nhóm hàng *Techology* nằm ở mức trung bình ***0.25***.\n",
    "\n",
    "Nhìn chung, các mặt hàng đều đem lại tỉ lệ hoàn vốn dương, như vậy, trung bình của các mặt hàng đều đem lại lợi nhuận cho cửa hàng.\n",
    "\n",
    "Sau đây, hãy đi chi tiết hơn về các loại mặt hàng trong nhóm để có cái nhìn rõ hơn về các mặt hàng."
   ]
  },
  {
   "cell_type": "code",
   "execution_count": null,
   "metadata": {},
   "outputs": [],
   "source": [
    "data_frame_RoR_cate = data_frame.groupby(by=[\"Category\", \n",
    "                                             \"Sub-Category\"])[[\"Sub-Category\", \n",
    "                                                               \"Category\", \n",
    "                                                               \"Sales\", \n",
    "                                                               \"Quantity\", \n",
    "                                                               \"Discount\", \n",
    "                                                               \"Profit\", \n",
    "                                                               \"Cost\", \n",
    "                                                               \"Rate of Return\"]].mean().reset_index()\n",
    "data_frame_RoR_cate"
   ]
  },
  {
   "cell_type": "code",
   "execution_count": null,
   "metadata": {},
   "outputs": [],
   "source": [
    "fig_6_2 = px.bar(data_frame_RoR_cate, y=\"Rate of Return\", x=\"Sub-Category\",# orientation=\"h\",# hover_name=\"Category\",\n",
    "                 color_discrete_sequence=[\"#7A92FF\", \"#FF7AEF\", \"#B77AFF\", \"#A9FF7A\", \"#FFB27A\", \"#FF7A7A\",\n",
    "                 \"#7AFEFF\", \"#D57AFF\", \"#FFDF7A\", \"#D3F077\", \"#2A30FF\", \"#F020E3\"].reverse(), \n",
    "                 color=\"Category\",\n",
    "                 title=\"Detail Rate of return over Category\")\n",
    "fig_6_2.show()"
   ]
  },
  {
   "cell_type": "markdown",
   "metadata": {},
   "source": [
    "Ta thấy, cửa hàng có nhiều mặt hàng thuộc nhóm *Office Supplies* hơn hẳn hai nhóm còn lại, và tỷ lệ hoàn vốn của các mặt hàng trong nhóm này đều khá cao, cao nhất là ở 3 mặt hàng là **Envelopes**, **Labels**, **Paper**. \n",
    "\n",
    "Hai nhóm hàng còn lại có ít loại hàng hơn và cũng có tỷ lệ hoàn vốn thấp hơn. Riêng mặt hàng *Furniture* còn có hai mặt hàng có tỷ lệ hoàn vốn âm là **Bookcases** có giá trị ***-0.02*** và **Tables** có giá trị ***-0.08***."
   ]
  },
  {
   "cell_type": "markdown",
   "metadata": {},
   "source": [
    "### VII. Which month of the year has the most orders?"
   ]
  },
  {
   "cell_type": "code",
   "execution_count": null,
   "metadata": {},
   "outputs": [],
   "source": [
    "data_frame_ID_order = data_frame[[\"Month\", \"Year\"]].value_counts().to_frame().sort_values(by=[\"Year\", \"Month\"])\n",
    "data_frame_ID_order.columns = [\"Number of Orders\"]\n",
    "data_frame_ID_order = data_frame_ID_order.reset_index()"
   ]
  },
  {
   "cell_type": "code",
   "execution_count": null,
   "metadata": {},
   "outputs": [],
   "source": [
    "fig_7 = px.bar(data_frame_ID_order, x=\"Month\", y=\"Number of Orders\",\n",
    "               color=\"Month\",\n",
    "               color_discrete_sequence=[\"#7A92FF\", \"#FF7AEF\", \"#B77AFF\", \"#A9FF7A\", \"#FFB27A\", \"#FF7A7A\",\n",
    "               \"#7AFEFF\", \"#D57AFF\", \"#FFDF7A\", \"#D3F077\", \"#2A30FF\", \"#F020E3\"].reverse(), \n",
    "               animation_frame=\"Year\")\n",
    "fig_7.update_xaxes(tickangle=0,\n",
    "                   tickmode='array',\n",
    "                   tickvals=data_frame_ID_order['Month'],\n",
    "                   ticktext=[d for d in data_frame_ID_order['Month']])\n",
    "fig_7.show()"
   ]
  },
  {
   "cell_type": "markdown",
   "metadata": {},
   "source": [
    "Biểu đồ trên cho ta thấy được số lượng Order mà cửa hàng có trong từng tháng qua các năm. Từ năm 2014 đến 2017, cửa hàng có nhiều Order nhất vào chủ yếu 3 tháng cuối năm là ***tháng 9***, ***tháng 11*** và ***tháng 12***. Tuy nhiên, khi ta nhìn lại biểu đồ doanh thu và lợi nhuận qua các tháng thì 3 tháng vừa nêu không nằm trong số tháng mà cửa hàng đạt doanh thu cao, cũng như không phải các tháng đạt lợi nhuận cao. "
   ]
  },
  {
   "cell_type": "code",
   "execution_count": null,
   "metadata": {},
   "outputs": [],
   "source": []
  },
  {
   "cell_type": "markdown",
   "metadata": {},
   "source": [
    "### VIII. Top 10 best-selling products?"
   ]
  },
  {
   "cell_type": "code",
   "execution_count": null,
   "metadata": {},
   "outputs": [],
   "source": [
    "data_frame_best_sell = data_frame[[\"Product ID\", \"Category\", \"Sub-Category\", \n",
    "                                   \"Product Name\", \"Quantity\"]].groupby(by=[\"Product ID\", \n",
    "                                                                            \"Category\", \"Sub-Category\", \n",
    "                                                                            \"Product Name\"]).sum().reset_index()\n",
    "data_frame_best_sell = data_frame_best_sell.sort_values(by = 'Quantity').tail(10)\n",
    "data_frame_best_sell"
   ]
  },
  {
   "cell_type": "code",
   "execution_count": null,
   "metadata": {},
   "outputs": [],
   "source": [
    "fig_8 = px.bar(data_frame_best_sell, y=\"Product ID\", x=\"Quantity\", orientation=\"h\",# hover_name=\"Category\",\n",
    "               color_discrete_sequence=[\"#7A92FF\", \"#FF7AEF\", \"#B77AFF\", \"#A9FF7A\", \"#FFB27A\", \"#FF7A7A\",\n",
    "               \"#7AFEFF\", \"#D57AFF\", \"#FFDF7A\", \"#D3F077\"].reverse(), \n",
    "               color=\"Product Name\",\n",
    "               title=\"Top 10 best-selling products\")\n",
    "fig_8.show()"
   ]
  },
  {
   "cell_type": "markdown",
   "metadata": {},
   "source": [
    "### IX. Which sub-category are usually sold together?"
   ]
  },
  {
   "cell_type": "code",
   "execution_count": null,
   "metadata": {},
   "outputs": [],
   "source": [
    "data_sub_cate_sold2 = data_frame[[\"Order ID\", \"Category\", \"Sub-Category\", \n",
    "                                  \"Product ID\", \"Product Name\", \"Quantity\"]]\n",
    "data_sub_cate_sold2[\"Sub-Category\"].unique().tolist()"
   ]
  },
  {
   "cell_type": "code",
   "execution_count": null,
   "metadata": {},
   "outputs": [],
   "source": [
    "# print(len(data_sub_cate_sold2[\"Sub-Category\"].unique().tolist()))\n",
    "data_combo_2 = []\n",
    "for i in data_sub_cate_sold2[\"Sub-Category\"].unique():\n",
    "    data_combo_2.append({i : dict.fromkeys(data_sub_cate_sold2[\"Sub-Category\"].unique().tolist())})\n",
    "\n",
    "sub_cate_pair_2 = []\n",
    "list_copy = data_sub_cate_sold2[\"Sub-Category\"].unique().tolist().copy()\n",
    "for i in data_sub_cate_sold2[\"Sub-Category\"].unique().tolist():\n",
    "    list_copy.remove(i)\n",
    "    for j in list_copy:\n",
    "        sub_cate_pair_2.append([i,j])"
   ]
  },
  {
   "cell_type": "code",
   "execution_count": null,
   "metadata": {},
   "outputs": [],
   "source": [
    "sub_cate_triple_3 = []\n",
    "list_copy = data_sub_cate_sold2[\"Sub-Category\"].unique().tolist().copy()\n",
    "for i in data_sub_cate_sold2[\"Sub-Category\"].unique().tolist():\n",
    "    list_copy.remove(i)\n",
    "    list_copy_ = list_copy.copy()\n",
    "    for j in list_copy:\n",
    "        list_copy_.remove(j)\n",
    "        for k in list_copy_:\n",
    "            sub_cate_triple_3.append([i, j, k])"
   ]
  },
  {
   "cell_type": "code",
   "execution_count": null,
   "metadata": {},
   "outputs": [],
   "source": [
    "sub_cate_pair_2_ = [tuple(i) for i in sub_cate_pair_2]\n",
    "pair_2 = dict.fromkeys(sub_cate_pair_2_, 0)"
   ]
  },
  {
   "cell_type": "code",
   "execution_count": null,
   "metadata": {},
   "outputs": [],
   "source": [
    "def sublist(lst1, lst2):\n",
    "    for i in lst2:\n",
    "        if i in lst1:\n",
    "            continue\n",
    "        else:\n",
    "            return False\n",
    "    return True\n",
    "\n",
    "sublist(['Bookcases', 'Appliances', 'Chairs', 'Appliances'], ['Bookcases', 'Chairs', 'Appliances'])"
   ]
  },
  {
   "cell_type": "code",
   "execution_count": null,
   "metadata": {},
   "outputs": [],
   "source": [
    "for i in data_sub_cate_sold2[\"Order ID\"].unique():\n",
    "    data_sub = data_sub_cate_sold2[\"Sub-Category\"][data_sub_cate_sold2[\"Order ID\"]==i].unique().tolist()\n",
    "    if len(data_sub) >= 2:\n",
    "        for pair in sub_cate_pair_2:\n",
    "            print(\"pair -> \", pair)\n",
    "            print(\"datasub->\", data_sub)\n",
    "            if sublist(data_sub, pair):\n",
    "                print(pair,\" :\",pair_2[tuple(pair)], \"+ 1-->\")\n",
    "                pair_2[tuple(pair)] += 1\n",
    "            else: print(\"False\")\n"
   ]
  },
  {
   "cell_type": "code",
   "execution_count": null,
   "metadata": {},
   "outputs": [],
   "source": [
    "pair_2_frame = pd.DataFrame.from_dict(pair_2, orient='index')\n",
    "pair_2_frame.columns = [\"Number of pair 2\"]\n",
    "pair_2_frame"
   ]
  },
  {
   "cell_type": "code",
   "execution_count": null,
   "metadata": {
    "scrolled": true
   },
   "outputs": [],
   "source": [
    "sub_cate_triple_3_ = [tuple(i) for i in sub_cate_triple_3]\n",
    "triple_3 = dict.fromkeys(sub_cate_triple_3_, 0)\n",
    "for i in data_sub_cate_sold2[\"Order ID\"].unique():\n",
    "    data_sub = data_sub_cate_sold2[\"Sub-Category\"][data_sub_cate_sold2[\"Order ID\"]==i].unique().tolist()\n",
    "    if len(data_sub) >= 3:\n",
    "        for triple in sub_cate_triple_3:\n",
    "            print(\"pair -> \", triple)\n",
    "            print(\"datasub->\", data_sub)\n",
    "            if sublist(data_sub, triple):\n",
    "                print(pair,\" :\",triple_3[tuple(triple)], \"+ 1-->\")\n",
    "                triple_3[tuple(triple)] += 1\n",
    "            else: print(\"False\")"
   ]
  },
  {
   "cell_type": "code",
   "execution_count": null,
   "metadata": {},
   "outputs": [],
   "source": [
    "triple_3_frame = pd.DataFrame.from_dict(triple_3, orient='index')\n",
    "triple_3_frame.columns = [\"Number of triple 3\"]\n",
    "triple_3_frame"
   ]
  },
  {
   "cell_type": "code",
   "execution_count": null,
   "metadata": {},
   "outputs": [],
   "source": [
    "pair_2_frame_top10 = pair_2_frame.sort_values(by = 'Number of pair 2', ascending = False).head(10).reset_index()\n",
    "pair_2_frame_top10.columns = [\"Pair\", \"Number of pair\"]\n",
    "pair_2_frame_top10 = pair_2_frame_top10.astype({\"Pair\": \"str\", \"Number of pair\" : \"int64\"})\n",
    "pair_2_frame_top10"
   ]
  },
  {
   "cell_type": "code",
   "execution_count": null,
   "metadata": {},
   "outputs": [],
   "source": [
    "triple_3_frame_top10 = triple_3_frame.sort_values(by = 'Number of triple 3', ascending = False).head(10).reset_index()\n",
    "triple_3_frame_top10.columns = [\"Triple\", \"Number of Triple\"]\n",
    "triple_3_frame_top10 = triple_3_frame_top10.astype({\"Triple\": \"str\", \"Number of Triple\" : \"int64\"})\n",
    "triple_3_frame_top10"
   ]
  },
  {
   "cell_type": "code",
   "execution_count": null,
   "metadata": {},
   "outputs": [],
   "source": [
    "fig_9 = px.bar(pair_2_frame_top10, y=\"Pair\", x=\"Number of pair\", orientation=\"h\",# hover_name=\"Category\",\n",
    "               color_discrete_sequence=[\"#7A92FF\", \"#FF7AEF\", \"#B77AFF\", \"#A9FF7A\", \"#FFB27A\", \"#FF7A7A\",\n",
    "               \"#7AFEFF\", \"#D57AFF\", \"#FFDF7A\", \"#D3F077\"].reverse(), \n",
    "               color=\"Pair\",\n",
    "               title=\"Top 10 Pair Sub-Category Usually Sold Together\")\n",
    "fig_9.show()"
   ]
  },
  {
   "cell_type": "markdown",
   "metadata": {},
   "source": [
    "Ta thấy các loại mặt hàng thường đi theo cặp với nhau theo bảng trên. Loại thường chung nhất là cặp ***Blinder, Paper*** có **275** lần được mua chung, điều này cũng dễ hiểu vì loại hàng mà cửa hàng bán ra nhiều nhất là *Office Suppiles* và khi mua thì các loại hàng này cũng hay được mua chung."
   ]
  },
  {
   "cell_type": "code",
   "execution_count": null,
   "metadata": {},
   "outputs": [],
   "source": [
    "fig_9_2 = px.bar(triple_3_frame_top10, y=\"Triple\", x=\"Number of Triple\", orientation=\"h\",# hover_name=\"Category\",\n",
    "                 color_discrete_sequence=[\"#7A92FF\", \"#FF7AEF\", \"#B77AFF\", \"#A9FF7A\", \"#FFB27A\", \"#FF7A7A\",\n",
    "                 \"#7AFEFF\", \"#D57AFF\", \"#FFDF7A\", \"#D3F077\"].reverse(), \n",
    "                 color=\"Triple\",\n",
    "                 title=\"Top 10 Triple Sub-Category Usually Sold Together\")\n",
    "fig_9_2.show()"
   ]
  },
  {
   "cell_type": "markdown",
   "metadata": {},
   "source": [
    "Ở biểu đồ này, ta thấy nếu nhóm theo cặp ba loại thì bộ ***Phones, Blinder và Paper*** được mua chung nhiều nhất với 54 lần."
   ]
  }
 ],
 "metadata": {
  "interpreter": {
   "hash": "3ffb2a3a7ef2306a626307c1cfd85fc6b2e179becd0606c31c737531865821c7"
  },
  "kernelspec": {
   "display_name": "Python 3.8.10 64-bit ('venv': venv)",
   "name": "python3"
  },
  "language_info": {
   "name": "python",
   "version": ""
  }
 },
 "nbformat": 4,
 "nbformat_minor": 5
}