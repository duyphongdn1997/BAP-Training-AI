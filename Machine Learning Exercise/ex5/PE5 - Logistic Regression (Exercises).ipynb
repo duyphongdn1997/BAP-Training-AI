{
 "cells": [
  {
   "cell_type": "code",
   "execution_count": 1,
   "metadata": {},
   "outputs": [],
   "source": [
    "import numpy as np\n",
    "import pandas as pd\n",
    "import matplotlib.pylab as plt\n",
    "from scipy.optimize import minimize\n",
    "%matplotlib inline"
   ]
  },
  {
   "cell_type": "markdown",
   "metadata": {},
   "source": [
    "## Regularized Linear Regression\n",
    "\n",
    "---\n",
    "In the first half of the exercise, you will implement regularized linear regres- sion to predict the amount of water flowing out of a dam using the change of water level in a reservoir. In the next half, you will go through some diag- nostics of debugging learning algorithms and examine the effects of bias v.s. variance.\n",
    "\n",
    "Start by loading the data."
   ]
  },
  {
   "cell_type": "code",
   "execution_count": 2,
   "metadata": {},
   "outputs": [],
   "source": [
    "import scipy.io as sio\n",
    "\n",
    "# Load data\n",
    "data = sio.loadmat(\"ex5data1.mat\")\n",
    "X = data[\"X\"]\n",
    "m, n = X.shape\n",
    "y = data[\"y\"].reshape(m)\n",
    "Xval = data['Xval']\n",
    "mval, nval = Xval.shape\n",
    "yval = data['yval'].reshape(mval)\n",
    "\n",
    "# Add bias to X\n",
    "X = np.hstack((np.ones((m, 1)), X))\n",
    "Xval = np.hstack((np.ones((mval, 1)), Xval))"
   ]
  },
  {
   "cell_type": "markdown",
   "metadata": {},
   "source": [
    "### Visualising the data"
   ]
  },
  {
   "cell_type": "code",
   "execution_count": 3,
   "metadata": {},
   "outputs": [
    {
     "data": {
      "text/plain": [
       "Text(0, 0.5, 'Water flowing out of the dam (y)')"
      ]
     },
     "execution_count": 3,
     "metadata": {},
     "output_type": "execute_result"
    },
    {
     "data": {
      "image/png": "[encoded data removed]",
      "text/plain": [
       "<Figure size 432x288 with 1 Axes>"
      ]
     },
     "metadata": {},
     "output_type": "display_data"
    }
   ],
   "source": [
    "plt.plot(X[:, 1], y, 'rx')\n",
    "plt.xlabel('Change in water leven (x)')\n",
    "plt.ylabel('Water flowing out of the dam (y)')"
   ]
  },
  {
   "cell_type": "markdown",
   "metadata": {},
   "source": [
    "Recall the cost function for regularized linear regression: \n",
    "\n",
    "$$J(\\theta) = \\frac{1}{m}(\\displaystyle\\sum_{i=1}^{m}(h_\\theta(x^{(i)}) - y^{(i)})^2) + \\frac{\\lambda}{m}\\displaystyle\\sum_{j=1}^{n}{\\theta_j}^2$$\n",
    "\n",
    "**Exercise**: Write a regularized vectorized linear regression function."
   ]
  },
  {
   "cell_type": "code",
   "execution_count": 4,
   "metadata": {},
   "outputs": [],
   "source": [
    "def linear_reg_cost_function(theta, X, y, _lambda):\n",
    "    \"\"\" \n",
    "    Computes the cost of using theta as the parameter for regularized linear gression to fit the data in X and y.\n",
    "    param: X: Input variable\n",
    "    param: y: Target variable\n",
    "    param: theta: Theta\n",
    "    return: The cost of using theta as the parameter for regularized linear gression to fit the data in X and y.\n",
    "    \"\"\"\n",
    "    \n",
    "    m = len(y)\n",
    "    cost = (1 / (2 * m)) * (X @ theta - y).T @ (X @ theta - y)\n",
    "    regularization = _lambda / (m) * np.sum(theta[1:] ** 2)\n",
    "    return cost + regularization"
   ]
  },
  {
   "cell_type": "markdown",
   "metadata": {},
   "source": [
    "According to the exercise, using ones for theta should return 303.993 as intial cost."
   ]
  },
  {
   "cell_type": "code",
   "execution_count": 5,
   "metadata": {},
   "outputs": [
    {
     "data": {
      "text/plain": [
       "304.0348588869309"
      ]
     },
     "execution_count": 5,
     "metadata": {},
     "output_type": "execute_result"
    }
   ],
   "source": [
    "initial_theta = np.ones(2)\n",
    "linear_reg_cost_function(initial_theta, X, y, _lambda=1)"
   ]
  },
  {
   "cell_type": "markdown",
   "metadata": {},
   "source": [
    "### Regularized linear regression gradient\n",
    "\n",
    "The partial derrivatives for $\\theta_j$:\n",
    "\n",
    "$$\\frac{\\delta J(\\theta)}{\\delta\\theta_j} = \\frac{1}{m}\\displaystyle\\sum_{i=1}^{m}(h_\\theta(x^{(i)}) - y^{(i)})x_i^{(i)}$$ for $j=0$\n",
    "\n",
    "$$\\frac{\\delta J(\\theta)}{\\delta\\theta_j} = (\\frac{1}{m}\\displaystyle\\sum_{i=1}^{m}(h_\\theta(x^{(i)}) - y^{(i)})x_i^{(i)}) + \\frac{\\lambda}{m}\\theta_j$$ for $j\\geqslant 1$\n",
    "\n",
    "Vectorized: \n",
    "\n",
    "$$\\frac{\\delta J(\\theta)}{\\delta\\theta_j} = \\frac{1}{m} \\cdot X^T \\cdot (X\\theta - \\vec{y}) $$\n",
    "\n",
    "**Exercise**: Find the partial derrivatives of $J(\\theta)$. Your code should not contain any loops."
   ]
  },
  {
   "cell_type": "code",
   "execution_count": 6,
   "metadata": {},
   "outputs": [],
   "source": [
    "def compute_gradient(theta, X, y, _lambda):\n",
    "    \"\"\" \n",
    "    Performs gradient descent to learn regularized theta. \n",
    "    \n",
    "    param: X: Input variables\n",
    "    param: y: Target variables\n",
    "    param: theta: Theta\n",
    "    param: alpha: learning rate for fit gradient descent\n",
    "    param: interations: Number of interations to fit.\n",
    "    Return: The found value for regularized theta of the cost function.\n",
    "    \"\"\"\n",
    "    hx = X @ theta\n",
    "    cost = (1/m) * X.T @ (hx - y)\n",
    "    regularization = (_lambda/m) * np.concatenate(([0], theta[1:]))\n",
    "    return cost + regularization"
   ]
  },
  {
   "cell_type": "markdown",
   "metadata": {},
   "source": [
    "You should get the following values: $\\begin{bmatrix}-15.30 && 598.250 \\end{bmatrix}$."
   ]
  },
  {
   "cell_type": "code",
   "execution_count": 7,
   "metadata": {},
   "outputs": [
    {
     "data": {
      "text/plain": [
       "array([-15.30301567, 598.25074417])"
      ]
     },
     "execution_count": 7,
     "metadata": {},
     "output_type": "execute_result"
    }
   ],
   "source": [
    "compute_gradient(initial_theta, X, y, _lambda=1)"
   ]
  },
  {
   "cell_type": "markdown",
   "metadata": {},
   "source": [
    "### Training the model\n",
    "Now we can train the model using `scipy.optimize.minimize`. In this implementation, we set $\\lambda$ to 0."
   ]
  },
  {
   "cell_type": "code",
   "execution_count": 8,
   "metadata": {},
   "outputs": [
    {
     "name": "stdout",
     "output_type": "stream",
     "text": [
      "Optimization terminated successfully.\n",
      "         Current function value: 22.373906\n",
      "         Iterations: 18\n",
      "         Function evaluations: 28\n",
      "         Gradient evaluations: 28\n"
     ]
    },
    {
     "data": {
      "text/plain": [
       "array([13.08790734,  0.36777925])"
      ]
     },
     "execution_count": 8,
     "metadata": {},
     "output_type": "execute_result"
    }
   ],
   "source": [
    "_lambda = 0\n",
    "args = (X, y, _lambda)\n",
    "result = minimize(linear_reg_cost_function, initial_theta, args=args,\n",
    "                  method='CG', jac=compute_gradient,\n",
    "                  options={'maxiter': 50, 'disp': True})\n",
    "theta = result.x\n",
    "theta"
   ]
  },
  {
   "cell_type": "markdown",
   "metadata": {},
   "source": [
    "### Visualize the found $\\theta$\n",
    "\n",
    "Althought the found value is not a good value, it's the best conjugate gradient could find using our model."
   ]
  },
  {
   "cell_type": "code",
   "execution_count": 9,
   "metadata": {},
   "outputs": [
    {
     "data": {
      "image/png": "[encoded data removed]",
      "text/plain": [
       "<Figure size 432x288 with 1 Axes>"
      ]
     },
     "metadata": {},
     "output_type": "display_data"
    }
   ],
   "source": [
    "plt.plot(X[:,1], y, 'rx', label='Training data')\n",
    "plt.plot(X[:,1], X.dot(theta), label='Regression')\n",
    "plt.legend()\n",
    "plt.xlabel('Change in water leven (x)')\n",
    "plt.ylabel('Water flowing out of the dam (y)')\n",
    "plt.show()"
   ]
  },
  {
   "cell_type": "markdown",
   "metadata": {},
   "source": [
    "## Bias Variance\n",
    "Models with high bias are not complex enough for the data and tend to underfit, while models with high variance overfit to the training data.\n",
    "\n",
    "### Learning Curves\n",
    "You will now implement code to generate the learning curves that will be useful in debugging learning algorithms. Recall that a learning curve plots training and cross validation error as a function of training set size.\n",
    "\n",
    "This model has a high bias problem.\n",
    "\n",
    "**Exercise**: Implement the learning curve function."
   ]
  },
  {
   "cell_type": "code",
   "execution_count": 10,
   "metadata": {},
   "outputs": [],
   "source": [
    "def learning_curve(X, y, Xval, yval, _lambda):\n",
    "    \"\"\" \n",
    "    Get the learning curves for each value of m\n",
    "    param: X : Input variables.\n",
    "    param: y : Target variables.\n",
    "    param: Xval: Input variables to validate theta.\n",
    "    param: yval: Target variables to validate theta.\n",
    "    Returns:\n",
    "    :error_train: The training error of the dataset until i\n",
    "    :error_val:   The error of the _entire_ cross validation set\n",
    "    \"\"\"\n",
    "    m, n = X.shape\n",
    "    error_train = np.zeros((m, 1))\n",
    "    error_val   = np.zeros((m, 1))\n",
    "    \n",
    "    for i in range(1, m+1):\n",
    "        X_ = X[:i]\n",
    "        y_ = y[:i]\n",
    "\n",
    "        theta = np.zeros(n)\n",
    "        from scipy.optimize import minimize\n",
    "        result = minimize(linear_reg_cost_function, theta, \n",
    "                          args = (X_, y_, _lambda),\n",
    "                          method = 'CG', jac = compute_gradient, \n",
    "                          options = {\"maxiter\": 400, \"disp\" : 1})\n",
    "        error_train[i-1] = result.fun\n",
    "        theta = result.x\n",
    "\n",
    "        error_val[i-1] = linear_reg_cost_function(theta, Xval, yval, _lambda)\n",
    "        \n",
    "    return error_train, error_val"
   ]
  },
  {
   "cell_type": "code",
   "execution_count": 11,
   "metadata": {},
   "outputs": [
    {
     "name": "stdout",
     "output_type": "stream",
     "text": [
      "Optimization terminated successfully.\n",
      "         Current function value: 0.000000\n",
      "         Iterations: 2\n",
      "         Function evaluations: 23\n",
      "         Gradient evaluations: 23\n",
      "Warning: Desired error not necessarily achieved due to precision loss.\n",
      "         Current function value: 1.482953\n",
      "         Iterations: 0\n",
      "         Function evaluations: 26\n",
      "         Gradient evaluations: 22\n",
      "Optimization terminated successfully.\n",
      "         Current function value: 3.286595\n",
      "         Iterations: 20\n",
      "         Function evaluations: 269\n",
      "         Gradient evaluations: 264\n",
      "Optimization terminated successfully.\n",
      "         Current function value: 2.842678\n",
      "         Iterations: 2\n",
      "         Function evaluations: 5\n",
      "         Gradient evaluations: 5\n",
      "Optimization terminated successfully.\n",
      "         Current function value: 13.154049\n",
      "         Iterations: 16\n",
      "         Function evaluations: 102\n",
      "         Gradient evaluations: 102\n",
      "Optimization terminated successfully.\n",
      "         Current function value: 19.443963\n",
      "         Iterations: 44\n",
      "         Function evaluations: 244\n",
      "         Gradient evaluations: 244\n",
      "Optimization terminated successfully.\n",
      "         Current function value: 20.098522\n",
      "         Iterations: 31\n",
      "         Function evaluations: 138\n",
      "         Gradient evaluations: 138\n",
      "Optimization terminated successfully.\n",
      "         Current function value: 18.172859\n",
      "         Iterations: 18\n",
      "         Function evaluations: 77\n",
      "         Gradient evaluations: 77\n",
      "Optimization terminated successfully.\n",
      "         Current function value: 22.609405\n",
      "         Iterations: 36\n",
      "         Function evaluations: 100\n",
      "         Gradient evaluations: 100\n",
      "Optimization terminated successfully.\n",
      "         Current function value: 23.261462\n",
      "         Iterations: 28\n",
      "         Function evaluations: 64\n",
      "         Gradient evaluations: 64\n",
      "Optimization terminated successfully.\n",
      "         Current function value: 24.317250\n",
      "         Iterations: 30\n",
      "         Function evaluations: 71\n",
      "         Gradient evaluations: 71\n",
      "Optimization terminated successfully.\n",
      "         Current function value: 22.373906\n",
      "         Iterations: 2\n",
      "         Function evaluations: 5\n",
      "         Gradient evaluations: 5\n"
     ]
    },
    {
     "data": {
      "text/plain": [
       "<matplotlib.legend.Legend at 0x7f1b4c55d668>"
      ]
     },
     "execution_count": 11,
     "metadata": {},
     "output_type": "execute_result"
    },
    {
     "data": {
      "image/png": "[encoded data removed]",
      "text/plain": [
       "<Figure size 432x288 with 1 Axes>"
      ]
     },
     "metadata": {},
     "output_type": "display_data"
    }
   ],
   "source": [
    "error_train, error_val = learning_curve(X, y, Xval, yval, _lambda)\n",
    "plt.plot(error_train, label='train')\n",
    "plt.plot(error_val, label='validation')\n",
    "plt.legend()"
   ]
  },
  {
   "cell_type": "markdown",
   "metadata": {},
   "source": [
    "## Polynomial Regression\n",
    "The problem with our linear model was that it was too simple for the data and resulted in underfitting (high bias). In this part of the exercise, you will address this problem by adding more features.\n",
    "\n",
    "**Exercise**: Implement the function that maps the original training set X of size $m \\times 1$ into its higher powers. Specifically, when a training set X of size m × 1 is passed into the function, the function should return a $m \\times p$ matrix."
   ]
  },
  {
   "cell_type": "code",
   "execution_count": 12,
   "metadata": {},
   "outputs": [],
   "source": [
    "def polynomial_features(X, p):\n",
    "    \"\"\"\n",
    "    Adding more features to X.\n",
    "    param: X: Input variables\n",
    "    param: p: number of dim need to added for X.\n",
    "    \"\"\"\n",
    "    X_poly = X\n",
    "    for i in range(2, p + 1):\n",
    "        X_poly = np.hstack((X_poly, X ** i))\n",
    "    return X_poly"
   ]
  },
  {
   "cell_type": "code",
   "execution_count": 13,
   "metadata": {},
   "outputs": [
    {
     "data": {
      "text/plain": [
       "array([[ 1.00000000e+00, -1.59367581e+01,  1.00000000e+00,\n",
       "         2.53980260e+02],\n",
       "       [ 1.00000000e+00, -2.91529792e+01,  1.00000000e+00,\n",
       "         8.49896197e+02],\n",
       "       [ 1.00000000e+00,  3.61895486e+01,  1.00000000e+00,\n",
       "         1.30968343e+03],\n",
       "       [ 1.00000000e+00,  3.74921873e+01,  1.00000000e+00,\n",
       "         1.40566411e+03],\n",
       "       [ 1.00000000e+00, -4.80588295e+01,  1.00000000e+00,\n",
       "         2.30965109e+03],\n",
       "       [ 1.00000000e+00, -8.94145794e+00,  1.00000000e+00,\n",
       "         7.99496701e+01],\n",
       "       [ 1.00000000e+00,  1.53077929e+01,  1.00000000e+00,\n",
       "         2.34328523e+02],\n",
       "       [ 1.00000000e+00, -3.47062658e+01,  1.00000000e+00,\n",
       "         1.20452489e+03],\n",
       "       [ 1.00000000e+00,  1.38915437e+00,  1.00000000e+00,\n",
       "         1.92974986e+00],\n",
       "       [ 1.00000000e+00, -4.43837599e+01,  1.00000000e+00,\n",
       "         1.96991814e+03],\n",
       "       [ 1.00000000e+00,  7.01350208e+00,  1.00000000e+00,\n",
       "         4.91892115e+01],\n",
       "       [ 1.00000000e+00,  2.27627489e+01,  1.00000000e+00,\n",
       "         5.18142738e+02]])"
      ]
     },
     "execution_count": 13,
     "metadata": {},
     "output_type": "execute_result"
    }
   ],
   "source": [
    "polynomial_features(X, 2)"
   ]
  },
  {
   "cell_type": "markdown",
   "metadata": {},
   "source": [
    "Remember feature scaling:\n",
    "\n",
    "$$X := \\frac{X - \\mu}{\\sigma}$$\n",
    "\n",
    "Where $\\mu$ is the average value of $X$ and $\\sigma$ is the standard deviation.\n",
    "\n",
    "**Exercise**: Implement feature scaling."
   ]
  },
  {
   "cell_type": "code",
   "execution_count": 14,
   "metadata": {},
   "outputs": [],
   "source": [
    "def scale_features(X):\n",
    "    \"\"\"\n",
    "    Normalizes the features in X\n",
    "    \n",
    "    :param: X_norm: Input variables need to normalized\n",
    "    :returns: a normalized version of X where the mean value of each feature is 0 and the standard deviation\n",
    "    is 1. This is often a good preprocessing step to do when\n",
    "    working with learning algorithms.\n",
    "    \"\"\"\n",
    "    mu = X.mean(axis=0)\n",
    "    sigma = X.std(axis=0)\n",
    "    result = (X - mu)/sigma\n",
    "    return result, mu, sigma"
   ]
  },
  {
   "cell_type": "markdown",
   "metadata": {},
   "source": [
    "Add polynomial features to $X$ and normalize it."
   ]
  },
  {
   "cell_type": "code",
   "execution_count": 15,
   "metadata": {},
   "outputs": [],
   "source": [
    "p = 8\n",
    "\n",
    "# X\n",
    "X_poly = polynomial_features(X[:, 1:], p) # ignore the bias column when adding polynomial features.\n",
    "X_poly, mu, sigma = scale_features(X_poly)\n",
    "X_poly = np.hstack((np.ones((m, 1)), X_poly))\n",
    "\n",
    "# X_val\n",
    "X_val_poly = polynomial_features(X[:, 1:], p) # ignore the bias column when adding polynomial features.\n",
    "X_val_poly = (X_val_poly - mu) / sigma\n",
    "X_val_poly = np.hstack((np.ones((m, 1)), X_val_poly))\n",
    "\n",
    "# X_test\n",
    "X_test_poly = polynomial_features(X[:, 1:], p) # ignore the bias column when adding polynomial features.\n",
    "X_test_poly = (X_test_poly - mu) / sigma\n",
    "X_test_poly = np.hstack((np.ones((m, 1)), X_test_poly))"
   ]
  },
  {
   "cell_type": "markdown",
   "metadata": {},
   "source": [
    "### Learning polynomial regression\n",
    "\n",
    "This example shows the learning curve and fit without regularization (high variance)."
   ]
  },
  {
   "cell_type": "code",
   "execution_count": 16,
   "metadata": {},
   "outputs": [
    {
     "name": "stdout",
     "output_type": "stream",
     "text": [
      "Optimization terminated successfully.\n",
      "         Current function value: 0.028891\n",
      "         Iterations: 508\n",
      "         Function evaluations: 977\n",
      "         Gradient evaluations: 977\n"
     ]
    }
   ],
   "source": [
    "_lambda = 0\n",
    "args = (X_poly, y, _lambda)\n",
    "initial_theta = np.ones(p+1)\n",
    "result = minimize(linear_reg_cost_function, initial_theta, args=args,\n",
    "                  method='CG', jac=compute_gradient,\n",
    "                  options={'maxiter': 1000, 'disp': True})\n",
    "theta = result.x"
   ]
  },
  {
   "cell_type": "code",
   "execution_count": 17,
   "metadata": {},
   "outputs": [
    {
     "data": {
      "image/png": "[encoded data removed]",
      "text/plain": [
       "<Figure size 432x288 with 1 Axes>"
      ]
     },
     "metadata": {},
     "output_type": "display_data"
    }
   ],
   "source": [
    "# Plot training data\n",
    "plt.plot(X[:,1], y, 'rx', label='Training data')\n",
    "\n",
    "# Plot polynomial fit\n",
    "space = np.array(np.arange(np.min(X) - 5, np.max(X) + 5, 0.05)).reshape((1912, 1))\n",
    "X_poly_plt = polynomial_features(space, p)\n",
    "X_poly_plt = (X_poly_plt - mu) / sigma\n",
    "X_poly_plt = np.hstack((np.ones((X_poly_plt.shape[0], 1)), X_poly_plt))\n",
    "plt.plot(space, X_poly_plt @ theta, '--', label='Polynomial fit')\n",
    "\n",
    "# Plot\n",
    "plt.legend()\n",
    "plt.xlabel('Change in water leven (x)')\n",
    "plt.ylabel('Water flowing out of the dam (y)')\n",
    "plt.show()"
   ]
  },
  {
   "cell_type": "code",
   "execution_count": 18,
   "metadata": {},
   "outputs": [
    {
     "name": "stdout",
     "output_type": "stream",
     "text": [
      "Optimization terminated successfully.\n",
      "         Current function value: 0.000000\n",
      "         Iterations: 1\n",
      "         Function evaluations: 3\n",
      "         Gradient evaluations: 3\n",
      "Optimization terminated successfully.\n",
      "         Current function value: 0.000000\n",
      "         Iterations: 2\n",
      "         Function evaluations: 6\n",
      "         Gradient evaluations: 6\n",
      "Optimization terminated successfully.\n",
      "         Current function value: 0.000000\n",
      "         Iterations: 3\n",
      "         Function evaluations: 9\n",
      "         Gradient evaluations: 9\n",
      "Optimization terminated successfully.\n",
      "         Current function value: 0.000000\n",
      "         Iterations: 7\n",
      "         Function evaluations: 21\n",
      "         Gradient evaluations: 21\n",
      "Optimization terminated successfully.\n",
      "         Current function value: 0.000000\n",
      "         Iterations: 18\n",
      "         Function evaluations: 50\n",
      "         Gradient evaluations: 50\n",
      "Optimization terminated successfully.\n",
      "         Current function value: 0.000000\n",
      "         Iterations: 272\n",
      "         Function evaluations: 525\n",
      "         Gradient evaluations: 525\n",
      "Optimization terminated successfully.\n",
      "         Current function value: 0.000000\n",
      "         Iterations: 115\n",
      "         Function evaluations: 239\n",
      "         Gradient evaluations: 239\n",
      "Warning: Maximum number of iterations has been exceeded.\n",
      "         Current function value: 0.025033\n",
      "         Iterations: 400\n",
      "         Function evaluations: 750\n",
      "         Gradient evaluations: 750\n",
      "Warning: Maximum number of iterations has been exceeded.\n",
      "         Current function value: 0.000679\n",
      "         Iterations: 400\n",
      "         Function evaluations: 710\n",
      "         Gradient evaluations: 710\n",
      "Warning: Maximum number of iterations has been exceeded.\n",
      "         Current function value: 0.033848\n",
      "         Iterations: 400\n",
      "         Function evaluations: 737\n",
      "         Gradient evaluations: 737\n",
      "Warning: Maximum number of iterations has been exceeded.\n",
      "         Current function value: 0.052912\n",
      "         Iterations: 400\n",
      "         Function evaluations: 735\n",
      "         Gradient evaluations: 735\n",
      "Warning: Maximum number of iterations has been exceeded.\n",
      "         Current function value: 0.029085\n",
      "         Iterations: 400\n",
      "         Function evaluations: 772\n",
      "         Gradient evaluations: 772\n"
     ]
    },
    {
     "data": {
      "text/plain": [
       "<matplotlib.legend.Legend at 0x7f1b4c4b0cc0>"
      ]
     },
     "execution_count": 18,
     "metadata": {},
     "output_type": "execute_result"
    },
    {
     "data": {
      "image/png": "[encoded data removed]",
      "text/plain": [
       "<Figure size 432x288 with 1 Axes>"
      ]
     },
     "metadata": {},
     "output_type": "display_data"
    }
   ],
   "source": [
    "error_train, error_val = learning_curve(X_poly, y, X_val_poly, y, _lambda)\n",
    "plt.plot(error_train, label='train')\n",
    "plt.plot(error_val, label='validation')\n",
    "plt.title('Learning curve with no regularization')\n",
    "plt.legend()"
   ]
  },
  {
   "cell_type": "markdown",
   "metadata": {},
   "source": [
    "### Adjusting the regularization parameter"
   ]
  },
  {
   "cell_type": "code",
   "execution_count": 19,
   "metadata": {},
   "outputs": [],
   "source": [
    "def plot_regularization(_lambda):\n",
    "    \"\"\" Plot the fit and learning curve for a regularization parameter _lambda \"\"\"\n",
    "    \n",
    "    # 1. Fit\n",
    "    \n",
    "    # Find theta\n",
    "    args = (X_poly, y, _lambda)\n",
    "    initial_theta = np.ones(p+1)\n",
    "    result = minimize(linear_reg_cost_function, initial_theta, args=args,\n",
    "                      method='CG', jac=compute_gradient,\n",
    "                      options={'maxiter': 1000, 'disp': False})\n",
    "    theta = result.x\n",
    "    \n",
    "    # Plot training data\n",
    "    plt.plot(X[:,1], y, 'rx', label='Training data')\n",
    "\n",
    "    # Plot polynomial fit\n",
    "    space = np.array(np.arange(np.min(X) - 5, np.max(X) + 5, 0.05)).reshape((1912, 1))\n",
    "    X_poly_plt = polynomial_features(space, p)\n",
    "    X_poly_plt = (X_poly_plt - mu) / sigma\n",
    "    X_poly_plt = np.hstack((np.ones((X_poly_plt.shape[0], 1)), X_poly_plt))\n",
    "    plt.plot(space, X_poly_plt @ theta, '--', label='Polynomial fit')\n",
    "\n",
    "    # Plot\n",
    "    plt.legend()\n",
    "    plt.xlabel('Change in water leven (x)')\n",
    "    plt.ylabel('Water flowing out of the dam (y)')\n",
    "    plt.show()\n",
    "    \n",
    "    \n",
    "    # 2. Learning curve\n",
    "    \n",
    "    # Plot learning curve\n",
    "    error_train, error_val = learning_curve(X_poly, y, X_val_poly, y, _lambda)\n",
    "    plt.plot(error_train, label='train')\n",
    "    plt.plot(error_val, label='validation')\n",
    "    plt.title('Learning curve with no regularization')\n",
    "    plt.legend()\n",
    "    \n",
    "    plt.show()"
   ]
  },
  {
   "cell_type": "code",
   "execution_count": 20,
   "metadata": {},
   "outputs": [
    {
     "data": {
      "image/png": "[encoded data removed]",
      "text/plain": [
       "<Figure size 432x288 with 1 Axes>"
      ]
     },
     "metadata": {},
     "output_type": "display_data"
    },
    {
     "name": "stdout",
     "output_type": "stream",
     "text": [
      "Optimization terminated successfully.\n",
      "         Current function value: 0.000000\n",
      "         Iterations: 2\n",
      "         Function evaluations: 7\n",
      "         Gradient evaluations: 7\n",
      "Optimization terminated successfully.\n",
      "         Current function value: 0.097815\n",
      "         Iterations: 3\n",
      "         Function evaluations: 9\n",
      "         Gradient evaluations: 9\n",
      "Warning: Desired error not necessarily achieved due to precision loss.\n",
      "         Current function value: 31.790996\n",
      "         Iterations: 4\n",
      "         Function evaluations: 54\n",
      "         Gradient evaluations: 42\n",
      "Warning: Desired error not necessarily achieved due to precision loss.\n",
      "         Current function value: 25.940043\n",
      "         Iterations: 5\n",
      "         Function evaluations: 56\n",
      "         Gradient evaluations: 44\n",
      "Warning: Desired error not necessarily achieved due to precision loss.\n",
      "         Current function value: 20.552240\n",
      "         Iterations: 9\n",
      "         Function evaluations: 63\n",
      "         Gradient evaluations: 51\n",
      "Warning: Desired error not necessarily achieved due to precision loss.\n",
      "         Current function value: 17.856936\n",
      "         Iterations: 9\n",
      "         Function evaluations: 88\n",
      "         Gradient evaluations: 76\n",
      "Warning: Desired error not necessarily achieved due to precision loss.\n",
      "         Current function value: 16.011255\n",
      "         Iterations: 10\n",
      "         Function evaluations: 76\n",
      "         Gradient evaluations: 64\n",
      "Warning: Desired error not necessarily achieved due to precision loss.\n",
      "         Current function value: 13.988854\n",
      "         Iterations: 10\n",
      "         Function evaluations: 67\n",
      "         Gradient evaluations: 55\n",
      "Warning: Desired error not necessarily achieved due to precision loss.\n",
      "         Current function value: 13.043829\n",
      "         Iterations: 12\n",
      "         Function evaluations: 81\n",
      "         Gradient evaluations: 69\n",
      "Warning: Desired error not necessarily achieved due to precision loss.\n",
      "         Current function value: 11.760975\n",
      "         Iterations: 10\n",
      "         Function evaluations: 59\n",
      "         Gradient evaluations: 47\n",
      "Warning: Desired error not necessarily achieved due to precision loss.\n",
      "         Current function value: 10.709726\n",
      "         Iterations: 6\n",
      "         Function evaluations: 67\n",
      "         Gradient evaluations: 55\n",
      "Warning: Desired error not necessarily achieved due to precision loss.\n",
      "         Current function value: 11.326378\n",
      "         Iterations: 6\n",
      "         Function evaluations: 60\n",
      "         Gradient evaluations: 49\n"
     ]
    },
    {
     "data": {
      "image/png": "[encoded data removed]",
      "text/plain": [
       "<Figure size 432x288 with 1 Axes>"
      ]
     },
     "metadata": {},
     "output_type": "display_data"
    }
   ],
   "source": [
    "# Good regularization\n",
    "plot_regularization(1)"
   ]
  },
  {
   "cell_type": "code",
   "execution_count": 21,
   "metadata": {},
   "outputs": [
    {
     "data": {
      "image/png": "[encoded data removed]",
      "text/plain": [
       "<Figure size 432x288 with 1 Axes>"
      ]
     },
     "metadata": {},
     "output_type": "display_data"
    },
    {
     "name": "stdout",
     "output_type": "stream",
     "text": [
      "Optimization terminated successfully.\n",
      "         Current function value: 0.000000\n",
      "         Iterations: 5\n",
      "         Function evaluations: 33\n",
      "         Gradient evaluations: 33\n",
      "Warning: Desired error not necessarily achieved due to precision loss.\n",
      "         Current function value: 0.115642\n",
      "         Iterations: 4\n",
      "         Function evaluations: 92\n",
      "         Gradient evaluations: 80\n",
      "Warning: Desired error not necessarily achieved due to precision loss.\n",
      "         Current function value: 118.049799\n",
      "         Iterations: 2\n",
      "         Function evaluations: 63\n",
      "         Gradient evaluations: 53\n",
      "Warning: Desired error not necessarily achieved due to precision loss.\n",
      "         Current function value: 143.372478\n",
      "         Iterations: 6\n",
      "         Function evaluations: 64\n",
      "         Gradient evaluations: 52\n",
      "Warning: Desired error not necessarily achieved due to precision loss.\n",
      "         Current function value: 131.165364\n",
      "         Iterations: 3\n",
      "         Function evaluations: 49\n",
      "         Gradient evaluations: 38\n",
      "Warning: Desired error not necessarily achieved due to precision loss.\n",
      "         Current function value: 122.255556\n",
      "         Iterations: 3\n",
      "         Function evaluations: 51\n",
      "         Gradient evaluations: 40\n",
      "Warning: Desired error not necessarily achieved due to precision loss.\n",
      "         Current function value: 104.893855\n",
      "         Iterations: 3\n",
      "         Function evaluations: 50\n",
      "         Gradient evaluations: 39\n",
      "Warning: Desired error not necessarily achieved due to precision loss.\n",
      "         Current function value: 97.269502\n",
      "         Iterations: 5\n",
      "         Function evaluations: 53\n",
      "         Gradient evaluations: 42\n",
      "Warning: Desired error not necessarily achieved due to precision loss.\n",
      "         Current function value: 89.477613\n",
      "         Iterations: 5\n",
      "         Function evaluations: 66\n",
      "         Gradient evaluations: 55\n",
      "Warning: Desired error not necessarily achieved due to precision loss.\n",
      "         Current function value: 83.134623\n",
      "         Iterations: 3\n",
      "         Function evaluations: 55\n",
      "         Gradient evaluations: 43\n",
      "Warning: Desired error not necessarily achieved due to precision loss.\n",
      "         Current function value: 76.028933\n",
      "         Iterations: 3\n",
      "         Function evaluations: 74\n",
      "         Gradient evaluations: 62\n",
      "Warning: Desired error not necessarily achieved due to precision loss.\n",
      "         Current function value: 75.176046\n",
      "         Iterations: 7\n",
      "         Function evaluations: 68\n",
      "         Gradient evaluations: 56\n"
     ]
    },
    {
     "data": {
      "image/png": "[encoded data removed]",
      "text/plain": [
       "<Figure size 432x288 with 1 Axes>"
      ]
     },
     "metadata": {},
     "output_type": "display_data"
    }
   ],
   "source": [
    "# (Way) too much regularization\n",
    "plot_regularization(100)"
   ]
  }
 ],
 "metadata": {
  "interpreter": {
   "hash": "3410afedb74081d81603511028deadddc25ba0f01c14e0cb891e2c2473f81884"
  },
  "kernelspec": {
   "display_name": "Python 3",
   "language": "python",
   "name": "python3"
  },
  "language_info": {
   "codemirror_mode": {
    "name": "ipython",
    "version": 3
   },
   "file_extension": ".py",
   "mimetype": "text/x-python",
   "name": "python",
   "nbconvert_exporter": "python",
   "pygments_lexer": "ipython3",
   "version": "3.6.9"
  }
 },
 "nbformat": 4,
 "nbformat_minor": 2
}
