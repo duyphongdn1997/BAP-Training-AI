{
 "cells": [
  {
   "cell_type": "markdown",
   "metadata": {
    "id": "ZOUzh03tfXV9"
   },
   "source": [
    "### I. Import libraries"
   ]
  },
  {
   "cell_type": "code",
   "execution_count": 5,
   "metadata": {
    "id": "txwKq27C7R1U"
   },
   "outputs": [],
   "source": [
    "import numpy as np\n",
    "import cv2\n",
    "from google.colab.patches import cv2_imshow\n",
    "from math import sqrt"
   ]
  },
  {
   "cell_type": "markdown",
   "metadata": {
    "id": "wN9I5J2hfd4L"
   },
   "source": [
    "### II. Japan "
   ]
  },
  {
   "cell_type": "code",
   "execution_count": 94,
   "metadata": {
    "colab": {
     "base_uri": "https://localhost:8080/",
     "height": 317
    },
    "id": "e_DO1J7PuyjL",
    "outputId": "36a7fb03-d669-4ec6-edc7-00fb3036e3a9"
   },
   "outputs": [
    {
     "data": {
      "image/png": "[encoded data removed]",
      "text/plain": [
       "<PIL.Image.Image image mode=RGB size=400x300 at 0x7F8B7629C450>"
      ]
     },
     "metadata": {
      "tags": []
     },
     "output_type": "display_data"
    }
   ],
   "source": [
    "def flag2():\n",
    "    flag = np.zeros((300, 400, 3), np.uint8)\n",
    "    center_x, center_y = 150, 200\n",
    "    radius = 70\n",
    "    # fill with White color\n",
    "    flag[:, :, :] = 255\n",
    "\n",
    "    # loop for rows i.e. for x-axis\n",
    "    for i in range(80, 220):\n",
    "\n",
    "        # loop for columns i.e. for y-axis\n",
    "        for j in range(130, 270):\n",
    "\n",
    "            # applying the equation of circle to make the circle in the center.\n",
    "            distance = sqrt((center_x - i) ** 2 + (center_y - j) ** 2)\n",
    "            if distance <= radius:\n",
    "                # fill the circle with crimson glory\n",
    "                # color using RGB color representation.\n",
    "                flag[i, j, 0] = 45\n",
    "                flag[i, j, 1] = 0\n",
    "                flag[i, j, 2] = 188\n",
    "\n",
    "    cv2_imshow(flag)\n",
    "\n",
    "flag2()"
   ]
  },
  {
   "cell_type": "markdown",
   "metadata": {
    "id": "ANsQr4POfnLX"
   },
   "source": [
    "### III. Viet Nam"
   ]
  },
  {
   "cell_type": "code",
   "execution_count": 119,
   "metadata": {
    "colab": {
     "base_uri": "https://localhost:8080/",
     "height": 317
    },
    "id": "nafI4qiQ9F8N",
    "outputId": "5a984ef8-9f6d-4339-ff1b-c472086c328c"
   },
   "outputs": [
    {
     "data": {
      "image/png": "[encoded data removed]",
      "text/plain": [
       "<PIL.Image.Image image mode=RGB size=400x300 at 0x7F8B7617DF10>"
      ]
     },
     "metadata": {
      "tags": []
     },
     "output_type": "display_data"
    }
   ],
   "source": [
    "def flag1():\n",
    "    flag = np.zeros((300, 400, 3), np.uint8)\n",
    "    center_x, center_y = 150, 200\n",
    "    flag[:, :, :] = 0\n",
    "    flag[:, :, 2] = 255\n",
    "    pts = np.array([[200, 62], [182,122], [124, 122], [171, 160], \n",
    "                    [153, 222], [200, 185], [246, 222], [229, 160], [276, 122], [217, 122]], np.int32)\n",
    "    cv2.fillPoly(flag, [pts], (0, 255, 255))\n",
    "    cv2_imshow(flag)\n",
    "flag1()"
   ]
  },
  {
   "cell_type": "markdown",
   "metadata": {
    "id": "eylA6G32fqs8"
   },
   "source": [
    "### IV. Seychelles"
   ]
  },
  {
   "cell_type": "code",
   "execution_count": 117,
   "metadata": {
    "colab": {
     "base_uri": "https://localhost:8080/",
     "height": 317
    },
    "id": "aRVWdPz1Uh-r",
    "outputId": "4a407c9f-4484-4087-9276-f6c970ee496e"
   },
   "outputs": [
    {
     "data": {
      "image/png": "[encoded data removed]",
      "text/plain": [
       "<PIL.Image.Image image mode=RGB size=400x300 at 0x7F8B76162ED0>"
      ]
     },
     "metadata": {
      "tags": []
     },
     "output_type": "display_data"
    }
   ],
   "source": [
    "def flag3():\n",
    "    flag = np.zeros((300, 400, 3), np.uint8)\n",
    "    for i in range(300):\n",
    "        for j in range (400):\n",
    "            flag[i, j, 0] = 255\n",
    "            flag[i, j, 1] = 0\n",
    "            flag[i, j, 2] = 0\n",
    "\n",
    "    for i in range(300):\n",
    "        for j in range(400):\n",
    "            m = round(abs((i-300)/(j+1)), 2)\n",
    "            if m <= 1.95:\n",
    "                flag[i, j, 0] = 0\n",
    "                flag[i, j, 1] = 255\n",
    "                flag[i, j, 2] = 255\n",
    "    for i in range(300):\n",
    "        for j in range(400):\n",
    "            m = round(abs((i-300)/(j+1)), 2)\n",
    "            if m <= 0.95:\n",
    "                flag[i, j, 0] = 0\n",
    "                flag[i, j, 1] = 0\n",
    "                flag[i, j, 2] = 255\n",
    "    for i in range(300):\n",
    "        for j in range(400):\n",
    "            m = round(abs((i-300)/(j+1)), 2)\n",
    "            if m <= 0.55:\n",
    "                flag[i, j, 0] = 255\n",
    "                flag[i, j, 1] = 255\n",
    "                flag[i, j, 2] = 255\n",
    "    for i in range(300):\n",
    "        for j in range(400):\n",
    "            m = round(abs((i-300)/(j+1)), 2)\n",
    "            if m <= 0.25:\n",
    "                flag[i, j, 0] = 0\n",
    "                flag[i, j, 1] = 128\n",
    "                flag[i, j, 2] = 0\n",
    "    cv2_imshow(flag)\n",
    "flag3()"
   ]
  }
 ],
 "metadata": {
  "colab": {
   "name": "Draw_Flags.ipynb",
   "provenance": []
  },
  "kernelspec": {
   "display_name": "Python 3",
   "language": "python",
   "name": "python3"
  },
  "language_info": {
   "codemirror_mode": {
    "name": "ipython",
    "version": 3
   },
   "file_extension": ".py",
   "mimetype": "text/x-python",
   "name": "python",
   "nbconvert_exporter": "python",
   "pygments_lexer": "ipython3",
   "version": "3.6.9"
  }
 },
 "nbformat": 4,
 "nbformat_minor": 1
}
