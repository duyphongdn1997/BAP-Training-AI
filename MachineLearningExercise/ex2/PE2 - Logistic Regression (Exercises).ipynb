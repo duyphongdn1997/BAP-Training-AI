{
 "cells": [
  {
   "cell_type": "code",
   "execution_count": 1,
   "metadata": {},
   "outputs": [],
   "source": [
    "import numpy as np\n",
    "import pandas as pd\n",
    "import matplotlib.pylab as plt\n",
    "%matplotlib inline"
   ]
  },
  {
   "cell_type": "markdown",
   "metadata": {},
   "source": [
    "## Logistic Regression\n",
    "\n",
    "---\n",
    "Logistic regression is predicting in which category a given data point is. In binary classifiction, there are only two categories:\n",
    "\n",
    "$$y \\in \\{0,1\\}$$\n",
    "\n",
    "In this exercise, you will implement logistic regression and apply it to two different datasets. Before starting on the programming exercise, we strongly recommend watching the video lectures and completing the review questions for the associated topics."
   ]
  },
  {
   "cell_type": "code",
   "execution_count": 2,
   "metadata": {},
   "outputs": [
    {
     "data": {
      "text/plain": [
       "array([[0],\n",
       "       [0],\n",
       "       [0],\n",
       "       [1],\n",
       "       [1]])"
      ]
     },
     "execution_count": 2,
     "metadata": {},
     "output_type": "execute_result"
    }
   ],
   "source": [
    "# start by loading the data\n",
    "data = pd.read_csv(\"ex2data1.txt\", header = None, \n",
    "                   names = [\"Exam 1 Score\", \"Exam 2 Score\", \"Accepted\"])\n",
    "\n",
    "# initialize some useful variables\n",
    "m = len(data[\"Accepted\"])\n",
    "x0 = np.ones(m)\n",
    "size = np.array((data[\"Exam 1 Score\"]))\n",
    "bedrooms = np.array((data[\"Exam 2 Score\"]))\n",
    "X = np.array([x0, size, bedrooms]).T\n",
    "y = np.array(data[\"Accepted\"]).reshape((m,1))\n",
    "m, n = X.shape\n",
    "\n",
    "X[:5]\n",
    "y[:5]"
   ]
  },
  {
   "cell_type": "markdown",
   "metadata": {},
   "source": [
    "### Visualising the data\n",
    "A blue cross means accepted. A yellow oval means rejected."
   ]
  },
  {
   "cell_type": "code",
   "execution_count": 3,
   "metadata": {},
   "outputs": [
    {
     "data": {
      "image/png": "[encoded data removed]",
      "text/plain": [
       "<Figure size 432x288 with 1 Axes>"
      ]
     },
     "metadata": {},
     "output_type": "display_data"
    }
   ],
   "source": [
    "# Find indices of positive and negative examples\n",
    "pos = np.where(y==1)[0]\n",
    "neg = np.where(y==0)[0]\n",
    "\n",
    "# Plot examples\n",
    "plt.plot(X[pos, 1], X[pos, 2], 'b+', label='Admitted')\n",
    "plt.plot(X[neg, 1], X[neg, 2], 'yo', label='Not admitted')\n",
    "plt.legend()\n",
    "plt.show()"
   ]
  },
  {
   "cell_type": "markdown",
   "metadata": {},
   "source": [
    "### Sigmoid\n",
    "The sigmoid function, or logistic function, is a function that asymptotes at 0 and 1. The value at 0 is $\\frac{1}{2}$.\n",
    "\n",
    "$h_\\theta(x) = g(\\theta^Tx) = g(z) = \\frac{1}{1+ e^{-z}} = \\frac{1}{1+ e^{-\\theta^Tx}}$\n",
    "\n",
    "A plot of the sigmoid function:\n",
    "![sigmoid](notes/sigmoid.png)\n",
    "\n",
    "We are going to use the sigmoid function to predict how likely it is that a given data point is in category 0. Our hypothesis:\n",
    "\n",
    "$h_\\theta(x) = P(y = 0|x;\\theta)$\n",
    "\n",
    "Because there are only two categories (in this case), we can derrive that:\n",
    "\n",
    "$P(y = 0|x;\\theta) + P(y = 1|x;\\theta)= 1$\n",
    "\n",
    "**Exercise**: Implement the sigmoid function in Python."
   ]
  },
  {
   "cell_type": "code",
   "execution_count": 4,
   "metadata": {},
   "outputs": [],
   "source": [
    "def sigmoid(z):\n",
    "    \"\"\"\n",
    "    Computes sigmoid function\n",
    "    param: z: input of sigmoid function\n",
    "    return: result after use sigmoid function to z.\n",
    "    \"\"\"\n",
    "    return 1/(1 + np.exp(-z))"
   ]
  },
  {
   "cell_type": "markdown",
   "metadata": {},
   "source": [
    "### Compute the Cost and Gradient\n",
    "\n",
    "#### The cost function\n",
    "\n",
    "The cost function in logistic regression differs from the one used in linear regression. The cost function in logistic regression:\n",
    "\n",
    "$$J(\\theta) = - \\begin{bmatrix}\\frac{1}{m}\\displaystyle\\sum_{i=1}^{m}-y^{(i)}\\log h(x^{(i)}-(1-y^{(i)})\\log(1-h_\\theta(x^{(i)}))\\end{bmatrix}$$\n",
    "\n",
    "Assume our hypothesis for an example is wrong, the higher probability $h_\\theta$ had predicted, the higher the penatly.\n",
    "\n",
    "A vectorized version of the cost function:\n",
    "\n",
    "$$J(\\theta) = \\frac{1}{m} ⋅(−y^T \\log(h)−(1−y)^T \\log(1−h))$$\n",
    "\n",
    "**Exercise**: Implement the vectorized cost function in Python."
   ]
  },
  {
   "cell_type": "code",
   "execution_count": 5,
   "metadata": {},
   "outputs": [],
   "source": [
    "def hypothesis(X, theta):\n",
    "    \"\"\"\n",
    "    Computes hypothesis function using sigmoid.\n",
    "    param: X: Input variables\n",
    "    param: theta: Theta variables\n",
    "    return: Result after using hypothesis function to X. \n",
    "    \"\"\"\n",
    "    \n",
    "    return sigmoid(X.dot(theta))\n",
    "\n",
    "def compute_cost(theta, X, y):\n",
    "    \"\"\" \n",
    "    Computes the cost of using theta as the parameter for linear gression to fit the data in X and y.\n",
    "    param: X: Input variables\n",
    "    param: y: Target variables\n",
    "    param: theta: Theta \n",
    "    return: cost of using theta as the parameter for linear gression to fit the data in X and y.\n",
    "    \"\"\"\n",
    "    \n",
    "    m = np.shape(X)[0]\n",
    "    hypo = hypothesis(X, theta)\n",
    "    term1 = (-y).T.dot(np.log(hypo))\n",
    "    term2 = (1-y).T.dot(np.log(1.0 - hypo))\n",
    "    return (1.0/m) * (term1 - term2)"
   ]
  },
  {
   "cell_type": "markdown",
   "metadata": {},
   "source": [
    "#### The gradient\n",
    "\n",
    "The gradient is the step a minimization algorithm, like gradient descent, takes to get to the (local) minimum. Note that this step can be taken in a higher dimension and hence the gradient is a vector. In the previous programming exercise we used gradient descent. This time, we are going to use an algorithm called conjugate gradient to find the minimum. How that algorithm works is beyond the scope if this course. If you are interested, you can learn more about it [here](https://en.wikipedia.org/wiki/Conjugate_gradient_method).\n",
    "\n",
    "The partial derrivative or $J(\\theta)$:\n",
    "\n",
    "$$\\frac{\\delta}{\\delta\\theta_J} = \\frac{1}{m}\\displaystyle\\sum_{i = 1}^{m} \\begin{bmatrix}(h_\\theta(x^{(i)}) - y^{(i)}\\end{bmatrix}x_j^{(i)}$$\n",
    "\n",
    "Vectorized:\n",
    "\n",
    "$$\\frac{\\delta}{\\delta\\theta_J} = \\frac{1}{m} \\cdot X^T \\cdot (g(X\\cdot\\theta)-\\vec{y})$$\n",
    "\n",
    "**Exercise**: Write a function to compute the gradient."
   ]
  },
  {
   "cell_type": "code",
   "execution_count": 6,
   "metadata": {},
   "outputs": [],
   "source": [
    "def compute_gradient(theta, X, y):\n",
    "    \"\"\" \n",
    "    Performs gradient descent to learn theta. \n",
    "    param: theta: Theta\n",
    "    param: X : input variables\n",
    "    param: y : Target variables\n",
    "    Returns the found value for theta and the history of the cost function.\n",
    "    \"\"\"\n",
    "    \n",
    "    m = np.shape(X)[0]\n",
    "    # g(z) is the sigmoid function\n",
    "    result = (X.T.dot(sigmoid(X.dot(theta)) - y))/m\n",
    "    return  result"
   ]
  },
  {
   "cell_type": "markdown",
   "metadata": {},
   "source": [
    "Test the cost and gradient function. We expect $J \\approx 0.693$ and $\\frac{\\delta}{\\delta\\theta_J} \\approx \\begin{bmatrix}-0.1000 & -12.0092 & -11.2628 \\end{bmatrix}$"
   ]
  },
  {
   "cell_type": "code",
   "execution_count": 7,
   "metadata": {},
   "outputs": [
    {
     "name": "stdout",
     "output_type": "stream",
     "text": [
      "Cost: \n",
      "0.6931471805599453\n",
      "\n",
      "Gradient: \n",
      "[ -0.1        -12.00921659 -11.26284221]\n"
     ]
    }
   ],
   "source": [
    "initial_theta = np.zeros(n)\n",
    "y = y.reshape(m)\n",
    "print('Cost: \\n{}\\n'.format(compute_cost(initial_theta, X, y)))\n",
    "print('Gradient: \\n{}'.format(compute_gradient(initial_theta, X, y)))"
   ]
  },
  {
   "cell_type": "markdown",
   "metadata": {},
   "source": [
    "### Learning $\\theta$ using conjugate gradient\n",
    "\n",
    "The optimization library we are going to use is `scipy.optimize`. We have to provide the algorithm with our cost function, initial guess, gradient among with some other (optional) configuration options.\n",
    "\n",
    "Please scan [the docs](https://docs.scipy.org/doc/scipy/reference/generated/scipy.optimize.minimize.html) of `minimize` first."
   ]
  },
  {
   "cell_type": "code",
   "execution_count": 8,
   "metadata": {
    "scrolled": true
   },
   "outputs": [
    {
     "name": "stdout",
     "output_type": "stream",
     "text": [
      "Optimization terminated successfully.\n",
      "         Current function value: 0.203498\n",
      "         Iterations: 65\n",
      "         Function evaluations: 144\n",
      "         Gradient evaluations: 144\n",
      "Conjugate gradient found the following values for theta: [-25.15927382   0.20621524   0.20145493]\n"
     ]
    },
    {
     "name": "stderr",
     "output_type": "stream",
     "text": [
      "/usr/lib/python3/dist-packages/ipykernel_launcher.py:23: RuntimeWarning: divide by zero encountered in log\n"
     ]
    }
   ],
   "source": [
    "from scipy.optimize import minimize\n",
    "result = minimize(compute_cost, initial_theta, args = (X, y),\n",
    "                   method = 'CG', jac = compute_gradient, \n",
    "                   options = {\"maxiter\": 400, \"disp\" : 1})\n",
    "theta = result.x\n",
    "print('Conjugate gradient found the following values for theta: {}'.format(theta))"
   ]
  },
  {
   "cell_type": "markdown",
   "metadata": {},
   "source": [
    "### The decision boundary\n",
    "The decision boundary is a line (in case of a 2d plane) that seperates the area where we predict $y=1$ and $y=0$."
   ]
  },
  {
   "cell_type": "code",
   "execution_count": 9,
   "metadata": {},
   "outputs": [
    {
     "data": {
      "text/plain": [
       "<matplotlib.legend.Legend at 0x7ff5724baf28>"
      ]
     },
     "execution_count": 9,
     "metadata": {},
     "output_type": "execute_result"
    },
    {
     "data": {
      "image/png": "[encoded data removed]",
      "text/plain": [
       "<Figure size 432x288 with 1 Axes>"
      ]
     },
     "metadata": {},
     "output_type": "display_data"
    }
   ],
   "source": [
    "# Find indices of positive and negative examples\n",
    "pos = np.where(y==1)[0]\n",
    "neg = np.where(y==0)[0]\n",
    "\n",
    "# Plot examples\n",
    "plt.plot(X[pos, 1], X[pos, 2], 'b+', label='Admitted')\n",
    "plt.plot(X[neg, 1], X[neg, 2], 'yo', label='Not admitted')\n",
    "plt.legend()\n",
    "\n",
    "# Plot the decision boundary\n",
    "plot_x = np.array([min(X[:,1])-2,  max(X[:,1])+2])\n",
    "plot_y = (-1./theta[2]) * ((theta[1] * (plot_x) + theta[0]))\n",
    "\n",
    "plt.plot(plot_x, plot_y, label='Decision boundary')\n",
    "\n",
    "# Legend, specific for the exercise\n",
    "plt.legend()"
   ]
  },
  {
   "cell_type": "markdown",
   "metadata": {},
   "source": [
    "### Evaluation\n",
    "#### Probability that a given student will be admitted"
   ]
  },
  {
   "cell_type": "code",
   "execution_count": 10,
   "metadata": {},
   "outputs": [
    {
     "name": "stdout",
     "output_type": "stream",
     "text": [
      "For a student with scores 45 and 85, we predict an admission probability of 0.78\n"
     ]
    }
   ],
   "source": [
    "prob = sigmoid(np.array([1, 45, 85]).dot(theta))\n",
    "print('For a student with scores 45 and 85, we predict an admission probability of {:.2}'.format(prob))"
   ]
  },
  {
   "cell_type": "markdown",
   "metadata": {},
   "source": [
    "#### Accuracy\n",
    "It's often a good idea to see how well your model trained. You can do that by checking how much datapoints we can predict correctly using $\\theta$. In a real world application, you should consider splitting your data (eg 80% - 20%) and test on data the model has not seen before. This gives you more realistic insight in how your model would perform in the real world - and that's your ultimate goal ;)\n",
    "\n",
    "In this example, we expect a training accuracy of 89.0%."
   ]
  },
  {
   "cell_type": "code",
   "execution_count": 11,
   "metadata": {},
   "outputs": [
    {
     "name": "stdout",
     "output_type": "stream",
     "text": [
      "Training Accuracy: 89.0%\n"
     ]
    }
   ],
   "source": [
    "p = np.zeros((m, 1))\n",
    "for (i, example) in enumerate(X):\n",
    "    prob = sigmoid(np.array(example.dot(theta)))\n",
    "    if prob >= 0.5:\n",
    "        p[i] = 1\n",
    "    else:\n",
    "        p[i] = 0\n",
    "print('Training Accuracy: {}%'.format(np.mean(p == y.reshape((m, 1))) * 100))"
   ]
  },
  {
   "cell_type": "markdown",
   "metadata": {},
   "source": [
    "## Regularized linear regression\n",
    "\n",
    "---\n",
    "Regularization is a meganism for preventing overfitting. _Overfitting_ means that our model works extremely well on the training set but bad in the real world. It's focussed on the training data. _Underfitting_ is either a not well trained model or the feature mapping is not done (correctly). We will use regularization in this exercise. Furtermore, we are going to look at a more complex decision boundary\n",
    "\n",
    "In this part of the exercise, you will implement regularized logistic regression to predict whether microchips from a fabrication plant passes quality assur- ance (QA). During QA, each microchip goes through various tests to ensure it is functioning correctly.\n",
    "\n",
    "Suppose you are the product manager of the factory and you have the test results for some microchips on two different tests. From these two tests, you would like to determine whether the microchips should be accepted or rejected. To help you make the decision, you have a dataset of test results on past microchips, from which you can build a logistic regression model."
   ]
  },
  {
   "cell_type": "code",
   "execution_count": 12,
   "metadata": {},
   "outputs": [
    {
     "data": {
      "text/plain": [
       "array([[ 0.051267,  0.69956 ],\n",
       "       [-0.092742,  0.68494 ],\n",
       "       [-0.21371 ,  0.69225 ],\n",
       "       [-0.375   ,  0.50219 ],\n",
       "       [-0.51325 ,  0.46564 ]])"
      ]
     },
     "execution_count": 12,
     "metadata": {},
     "output_type": "execute_result"
    }
   ],
   "source": [
    "# start by loading the data\n",
    "data = pd.read_csv(\"ex2data2.txt\", header = None, \n",
    "                   names = [\"Test 1\", \"Test 2\", \"Status\"])\n",
    "\n",
    "# initialize some useful variables\n",
    "m = len(data[\"Status\"])\n",
    "size = np.array((data[\"Test 1\"]))\n",
    "bedrooms = np.array((data[\"Test 2\"]))\n",
    "X = np.array([size, bedrooms]).T # don't add a column of ones yet.\n",
    "y = np.array(data[\"Status\"])\n",
    "\n",
    "X[:5]"
   ]
  },
  {
   "cell_type": "markdown",
   "metadata": {},
   "source": [
    "### Visualising the data"
   ]
  },
  {
   "cell_type": "code",
   "execution_count": 13,
   "metadata": {},
   "outputs": [
    {
     "data": {
      "image/png": "[encoded data removed]",
      "text/plain": [
       "<Figure size 432x288 with 1 Axes>"
      ]
     },
     "metadata": {},
     "output_type": "display_data"
    }
   ],
   "source": [
    "# Find indices of positive and negative examples\n",
    "pos = np.where(y==1)[0]\n",
    "neg = np.where(y==0)[0]\n",
    "\n",
    "# Plot examples\n",
    "plt.plot(X[pos, 0], X[pos, 1], 'b+', label='Admitted')\n",
    "plt.plot(X[neg, 0], X[neg, 1], 'yo', label='Not admitted')\n",
    "plt.legend()\n",
    "plt.show()"
   ]
  },
  {
   "cell_type": "markdown",
   "metadata": {},
   "source": [
    "### Feature Mapping\n",
    "\n",
    "One way to fit the data better is to create more features from each data point. While the feature mapping allows us to build a more expressive classifier, it also more susceptible to overfitting. This will also add $x_0$."
   ]
  },
  {
   "cell_type": "code",
   "execution_count": 14,
   "metadata": {},
   "outputs": [],
   "source": [
    "def map_feature(X1, X2, degree):\n",
    "    if not type(X1) == np.ndarray:\n",
    "        X1 = np.array([X1])\n",
    "\n",
    "    if not type(X2) == np.ndarray:\n",
    "        X2 = np.array([X2])\n",
    "\n",
    "    assert X1.shape == X2.shape\n",
    "    \n",
    "    out = np.ones((len(X1), 1))\n",
    "    for i in range(1, degree+1):\n",
    "        for j in range(i + 1):\n",
    "            new = (X1 ** (i-j) * X2 ** j).reshape(len(X1), 1)\n",
    "            out = np.hstack((out, new))\n",
    "    return out\n",
    "\n",
    "X = map_feature(X[:,0], X[:,1], degree=6)\n",
    "m, n = X.shape"
   ]
  },
  {
   "cell_type": "markdown",
   "metadata": {},
   "source": [
    "### Computing Cost and Gradient\n",
    "#### Cost function\n",
    "Regularization works by penalizing theta. Theta values can be high when an overfit occurs so we prefer to keep them low. $\\lambda$ is the regularization parameter. If $\\lambda=0$, no regularization happens. If $\\lambda$ is some big number, $\\theta$ has a very high penalty. Just like the learning rate $\\alpha$ you have to try out certain values and see which work.\n",
    "\n",
    "The cost function with regularization:\n",
    "\n",
    "$$J(\\theta) = \\frac{1}{m}\\displaystyle\\sum_{i=1}^{m}-\\begin{bmatrix}y^{(i)}\\log h(x^{(i)}+(1-y^{(i)})\\log(1-h_\\theta(x^{(i)})) \\end{bmatrix} + \\frac{\\lambda}{m}\\displaystyle\\sum_{j=1}^{n}{\\theta_j}^2$$\n",
    "\n",
    "**Exercise**: Implement the regularized cost function."
   ]
  },
  {
   "cell_type": "code",
   "execution_count": 15,
   "metadata": {},
   "outputs": [],
   "source": [
    "def compute_regularized_cost(theta, X, y, _lambda):\n",
    "    \"\"\" \n",
    "    Computes the cost of using theta as the parameter for regularized linear regression \n",
    "    to fit the data in X and y.\n",
    "    param: X: Input variables\n",
    "    param: y: Target variables\n",
    "    param: theta: Theta\n",
    "    param: _lambda: lambda variables to computing regularization.\n",
    "    return: cost of using theta as the parameter for regularized linear gression to fit the data in X and y.\n",
    "    \"\"\"\n",
    "\n",
    "    regularization = _lambda / (m) * np.sum(theta[1:] ** 2)\n",
    "    cost = 1/m * (-y @ np.log(sigmoid(X @ theta)) - (1 - y) @ np.log(1 - sigmoid(X@theta)))\n",
    "\n",
    "    return cost + regularization"
   ]
  },
  {
   "cell_type": "markdown",
   "metadata": {},
   "source": [
    "#### Gradient descent\n",
    "Gradient descent, just like the cost function, is slightly modified for regularization.\n",
    "\n",
    "For $\\theta_{j}$ where $j = 0$: \n",
    "\n",
    "$$\\theta_j := \\theta_j -\\alpha \\begin{bmatrix}\\frac{1}{m}\\displaystyle\\sum_{i=1}^{m}(h_\\theta(x^{(i)})-y^{(i)}){x_0}^{(i)}\\end{bmatrix}$$\n",
    "\n",
    "For $\\theta_{j}$ where $j \\in \\{1, 2, ..., n\\} $: \n",
    "\n",
    "$$\\theta_j := \\theta_j -\\alpha \\begin{bmatrix}\\frac{1}{m}\\displaystyle\\sum_{i=1}^{m}(h_\\theta(x^{(i)})-y^{(i)})x_j^{(i)} + \\frac{\\lambda}{m}{\\theta_j} \\end{bmatrix}$$\n",
    "\n",
    "Note that we don't penalize our bias vector $X_1$.\n",
    "\n",
    "**Exercise**: Implement `compute_regularized_gradient`."
   ]
  },
  {
   "cell_type": "code",
   "execution_count": 16,
   "metadata": {},
   "outputs": [],
   "source": [
    "def compute_regularized_gradient(theta, X, y, _lambda):\n",
    "    \"\"\"\n",
    "    Performs gradient descent to learn theta. \n",
    "    param: theta: Theta\n",
    "    param: X : input variables\n",
    "    param: y : Target variables\n",
    "    Returns the found value for theta and the history of the cost function.\n",
    "    \"\"\"\n",
    "    \n",
    "    gradient = X.T.dot(sigmoid(X.dot(theta)) - y) / m\n",
    "    gradient[1:] = gradient[1:] + (theta[1:] * (_lambda / m)) \n",
    "    \n",
    "    return gradient"
   ]
  },
  {
   "cell_type": "markdown",
   "metadata": {},
   "source": [
    "We expect: $J \\approx 0.693$ and the first five values of $\\theta$: $\\begin{bmatrix} 0.0085 && 0.0188 && 0.0001 && 0.0503 && 0.0115 \\end{bmatrix}$"
   ]
  },
  {
   "cell_type": "code",
   "execution_count": 17,
   "metadata": {},
   "outputs": [
    {
     "name": "stdout",
     "output_type": "stream",
     "text": [
      "Cost at initial theta (zeros): 0.693\n",
      "Gradient at initial theta (zeros) - first five values only: \n",
      "[8.47457627e-03 1.87880932e-02 7.77711864e-05 5.03446395e-02\n",
      " 1.15013308e-02]\n"
     ]
    }
   ],
   "source": [
    "_lambda = 1\n",
    "alpha = 0.01\n",
    "# initial_theta = np.ones(n)\n",
    "initial_theta = np.zeros(n)\n",
    "\n",
    "cost = compute_regularized_cost(initial_theta, X, y, _lambda)\n",
    "grad = compute_regularized_gradient(initial_theta, X, y, _lambda)\n",
    "\n",
    "print('Cost at initial theta (zeros): {:.3}'.format(cost))\n",
    "print('Gradient at initial theta (zeros) - first five values only: \\n{}'.format(grad[:5]))"
   ]
  },
  {
   "cell_type": "markdown",
   "metadata": {},
   "source": [
    "Find an optimimal value for theta using conjugate gradient."
   ]
  },
  {
   "cell_type": "code",
   "execution_count": 18,
   "metadata": {},
   "outputs": [
    {
     "name": "stdout",
     "output_type": "stream",
     "text": [
      "Warning: Desired error not necessarily achieved due to precision loss.\n",
      "         Current function value: 0.579495\n",
      "         Iterations: 4\n",
      "         Function evaluations: 77\n",
      "         Gradient evaluations: 65\n",
      "Conjugate gradient found the following values for theta - first five values only: [ 1.05581185  0.53213262  1.01421666 -1.54479765 -0.46763664]\n"
     ]
    }
   ],
   "source": [
    "from scipy.optimize import minimize\n",
    "result = minimize(compute_regularized_cost, initial_theta, args = (X, y, _lambda),\n",
    "                  method = 'CG', jac = compute_regularized_gradient, \n",
    "                  options = {\"maxiter\": 400, \"disp\" : 1})\n",
    "theta = result.x\n",
    "print('Conjugate gradient found the following values for theta - first five values only: {}'.format(theta[:5]))"
   ]
  },
  {
   "cell_type": "markdown",
   "metadata": {},
   "source": [
    "### Plotting the decision boundary\n",
    "We can plot a more complex decision boundary using `np.linspace` and `contour`."
   ]
  },
  {
   "cell_type": "code",
   "execution_count": 19,
   "metadata": {},
   "outputs": [
    {
     "data": {
      "text/plain": [
       "<matplotlib.contour.QuadContourSet at 0x7ff57234dba8>"
      ]
     },
     "execution_count": 19,
     "metadata": {},
     "output_type": "execute_result"
    },
    {
     "data": {
      "image/png": "[encoded data removed]",
      "text/plain": [
       "<Figure size 432x288 with 1 Axes>"
      ]
     },
     "metadata": {},
     "output_type": "display_data"
    }
   ],
   "source": [
    "# Find indices of positive and negative examples\n",
    "pos = np.where(y==1)[0]\n",
    "neg = np.where(y==0)[0]\n",
    "\n",
    "# Plot examples\n",
    "plt.plot(X[pos, 1], X[pos, 2], 'b+', label='Admitted')\n",
    "plt.plot(X[neg, 1], X[neg, 2], 'yo', label='Not admitted')\n",
    "plt.legend()\n",
    "\n",
    "# Here is the grid range\n",
    "u = np.linspace(-1, 1.5, 50).reshape(50)\n",
    "v = np.linspace(-1, 1.5, 50).reshape(50)\n",
    "z = np.zeros((len(u), len(v)))\n",
    "\n",
    "# Evaluate z = theta*x over the grid\n",
    "for i in range(len(u)):\n",
    "    for j in range(len(v)):\n",
    "        z[i,j] = map_feature(u[i], v[j], degree=6).dot(theta)\n",
    "\n",
    "# Plot z = 0\n",
    "# Notice you need to specify the range [0, 0]\n",
    "#z = z.reshape(len(u), len(v))\n",
    "plt.contour(u, v, z.T, 0)"
   ]
  },
  {
   "cell_type": "markdown",
   "metadata": {},
   "source": [
    "### Exploring regularization\n",
    "As mentioned before, $\\lambda$ is used to control the problem of overfitting. In the following graphs, models trained with different values of lambda are shown to give you some intuition on the problem of over/underfitting."
   ]
  },
  {
   "cell_type": "code",
   "execution_count": 20,
   "metadata": {},
   "outputs": [],
   "source": [
    "def create_plot_for_lambda(X, y, _lambda):\n",
    "    from scipy.optimize import minimize\n",
    "    result = minimize(compute_regularized_cost, initial_theta, args = (X, y, _lambda),\n",
    "                      method = 'CG', jac = compute_regularized_gradient, \n",
    "                      options = {\"maxiter\": 400, \"disp\" : 1})\n",
    "    theta = result.x\n",
    "    print('Conjugate gradient found the following values for theta - first five values only: {}'.format(theta[:5]))\n",
    "\n",
    "    # Find indices of positive and negative examples\n",
    "    pos = np.where(y==1)[0]\n",
    "    neg = np.where(y==0)[0]\n",
    "\n",
    "    # Plot examples\n",
    "    plt.plot(X[pos, 1], X[pos, 2], 'b+', label='Admitted')\n",
    "    plt.plot(X[neg, 1], X[neg, 2], 'yo', label='Not admitted')\n",
    "    plt.legend()\n",
    "\n",
    "    # Here is the grid range\n",
    "    u = np.linspace(-1, 1.5, 50).reshape(50)\n",
    "    v = np.linspace(-1, 1.5, 50).reshape(50)\n",
    "    z = np.zeros((len(u), len(v)))\n",
    "\n",
    "    # Evaluate z = theta*x over the grid\n",
    "    for i in range(len(u)):\n",
    "        for j in range(len(v)):\n",
    "            z[i,j] = map_feature(u[i], v[j], degree=6).dot(theta)\n",
    "\n",
    "    # Plot z = 0\n",
    "    # Notice you need to specify the range [0, 0]\n",
    "    #z = z.reshape(len(u), len(v))\n",
    "    plt.contour(u, v, z.T, 0)"
   ]
  },
  {
   "cell_type": "markdown",
   "metadata": {},
   "source": [
    "#### Overfitting\n",
    "Remember: overfitting means the model probably only works on the training set and not well in the real world. If you model is overfit, consider adding regularization or choosing a higher value for $\\lambda$.\n",
    "\n",
    "You can check out other values of $\\lambda$ yourself."
   ]
  },
  {
   "cell_type": "code",
   "execution_count": 21,
   "metadata": {},
   "outputs": [
    {
     "name": "stdout",
     "output_type": "stream",
     "text": [
      "Warning: Maximum number of iterations has been exceeded.\n",
      "         Current function value: 0.280853\n",
      "         Iterations: 400\n",
      "         Function evaluations: 1446\n",
      "         Gradient evaluations: 1446\n",
      "Conjugate gradient found the following values for theta - first five values only: [ 2.53417952 -1.60790124  1.8795546  -7.0527775  -8.38578916]\n"
     ]
    },
    {
     "data": {
      "image/png": "[encoded data removed]",
      "text/plain": [
       "<Figure size 432x288 with 1 Axes>"
      ]
     },
     "metadata": {},
     "output_type": "display_data"
    }
   ],
   "source": [
    "create_plot_for_lambda(X, y, 0)"
   ]
  },
  {
   "cell_type": "markdown",
   "metadata": {},
   "source": [
    "#### Underfitting\n",
    "Underfitting means the model is not well trained. Having a high $\\lambda$ can cause underfitting."
   ]
  },
  {
   "cell_type": "code",
   "execution_count": 22,
   "metadata": {},
   "outputs": [
    {
     "name": "stdout",
     "output_type": "stream",
     "text": [
      "Warning: Desired error not necessarily achieved due to precision loss.\n",
      "         Current function value: 0.677763\n",
      "         Iterations: 1\n",
      "         Function evaluations: 56\n",
      "         Gradient evaluations: 44\n",
      "Conjugate gradient found the following values for theta - first five values only: [-0.04237288 -0.09394047 -0.00038886 -0.2517232  -0.05750665]\n"
     ]
    },
    {
     "data": {
      "image/png": "[encoded data removed]",
      "text/plain": [
       "<Figure size 432x288 with 1 Axes>"
      ]
     },
     "metadata": {},
     "output_type": "display_data"
    }
   ],
   "source": [
    "create_plot_for_lambda(X, y, 10)"
   ]
  },
  {
   "cell_type": "markdown",
   "metadata": {},
   "source": [
    "#### Underfitting$^2$\n",
    "This is what model trained with an extremely high value of $\\lambda$ looks like:"
   ]
  },
  {
   "cell_type": "code",
   "execution_count": 23,
   "metadata": {},
   "outputs": [
    {
     "name": "stdout",
     "output_type": "stream",
     "text": [
      "Warning: Desired error not necessarily achieved due to precision loss.\n",
      "         Current function value: 0.691976\n",
      "         Iterations: 1\n",
      "         Function evaluations: 64\n",
      "         Gradient evaluations: 52\n",
      "Conjugate gradient found the following values for theta - first five values only: [-6.39107346e-03 -1.41689779e-02 -5.86508811e-05 -3.79672422e-02\n",
      " -8.67369029e-03]\n"
     ]
    },
    {
     "data": {
      "image/png": "[encoded data removed]",
      "text/plain": [
       "<Figure size 432x288 with 1 Axes>"
      ]
     },
     "metadata": {},
     "output_type": "display_data"
    }
   ],
   "source": [
    "create_plot_for_lambda(X, y, 130)"
   ]
  },
  {
   "cell_type": "markdown",
   "metadata": {},
   "source": [
    "### Adjusted normal equation\n",
    "As you would have expected, the normal equation changes when you add normalization to your machine learning model. The adjusted version of the normal equation: \n",
    "\n",
    "$$\\theta=(X^TX+\\lambda\\begin{bmatrix} 0&\\dotsi&\\dotsi&\\dotsi &0\\\\\\vdots &1&0& 0 & \\vdots&\\\\\\vdots&0&1 &0 & \\vdots\\\\\\vdots&0&0&1&\\vdots\\\\0&\\dotsi&\\dotsi&\\dotsi&1 \\end{bmatrix})^{-1}X^Ty$$\n",
    "\n",
    "If $m < n$, $X$ is [non-invertable](https://www.quora.com/What-is-a-non-invertible-matrix-What-are-some-examples)."
   ]
  },
  {
   "cell_type": "code",
   "execution_count": 24,
   "metadata": {},
   "outputs": [
    {
     "data": {
      "text/plain": [
       "array([ 0.94416708,  0.2315894 ,  0.41142826, -0.7380916 , -0.50116657,\n",
       "       -0.69193639,  0.1003575 , -0.10718673, -0.06667559, -0.05556887,\n",
       "       -0.45471969,  0.09321721, -0.23956536, -0.07088082, -0.40279421,\n",
       "        0.04618662, -0.01432296,  0.04153635, -0.10356044, -0.02654812,\n",
       "        0.05619122, -0.18296629,  0.12363998, -0.11445861,  0.06788982,\n",
       "       -0.10602358,  0.04149463, -0.05781815])"
      ]
     },
     "execution_count": 24,
     "metadata": {},
     "output_type": "execute_result"
    }
   ],
   "source": [
    "L = np.eye(n)\n",
    "L[0] = 0\n",
    "_lambda = 1\n",
    "theta = np.linalg.inv(X.T @ X + _lambda * L)@X.T@y\n",
    "theta"
   ]
  }
 ],
 "metadata": {
  "kernelspec": {
   "display_name": "Python 3",
   "language": "python",
   "name": "python3"
  },
  "language_info": {
   "codemirror_mode": {
    "name": "ipython",
    "version": 3
   },
   "file_extension": ".py",
   "mimetype": "text/x-python",
   "name": "python",
   "nbconvert_exporter": "python",
   "pygments_lexer": "ipython3",
   "version": "3.6.9"
  }
 },
 "nbformat": 4,
 "nbformat_minor": 2
}
